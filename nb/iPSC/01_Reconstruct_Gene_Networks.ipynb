{
 "cells": [
  {
   "cell_type": "code",
   "execution_count": 1,
   "metadata": {},
   "outputs": [
    {
     "data": {
      "text/html": [
       "'R version 4.1.0 (2021-05-18)'"
      ],
      "text/latex": [
       "'R version 4.1.0 (2021-05-18)'"
      ],
      "text/markdown": [
       "'R version 4.1.0 (2021-05-18)'"
      ],
      "text/plain": [
       "[1] \"R version 4.1.0 (2021-05-18)\""
      ]
     },
     "metadata": {},
     "output_type": "display_data"
    }
   ],
   "source": [
    "R.Version()$version.string"
   ]
  },
  {
   "cell_type": "code",
   "execution_count": 2,
   "metadata": {},
   "outputs": [
    {
     "name": "stderr",
     "output_type": "stream",
     "text": [
      "Attaching SeuratObject\n",
      "\n",
      "Registered S3 method overwritten by 'SeuratDisk':\n",
      "  method            from  \n",
      "  as.sparse.H5Group Seurat\n",
      "\n"
     ]
    }
   ],
   "source": [
    "library(\"GENIE3\")\n",
    "library(Seurat)\n",
    "library(SeuratDisk)"
   ]
  },
  {
   "cell_type": "code",
   "execution_count": 11,
   "metadata": {},
   "outputs": [],
   "source": [
    "set.seed(123)"
   ]
  },
  {
   "cell_type": "markdown",
   "metadata": {},
   "source": [
    "## Convert H5 Files"
   ]
  },
  {
   "cell_type": "code",
   "execution_count": 5,
   "metadata": {},
   "outputs": [
    {
     "name": "stderr",
     "output_type": "stream",
     "text": [
      "Warning message:\n",
      "“Unknown file type: h5ad”\n",
      "Warning message:\n",
      "“'assay' not set, setting to 'RNA'”\n",
      "Creating h5Seurat file for version 3.1.5.9900\n",
      "\n",
      "Adding X as scale.data\n",
      "\n",
      "Adding X as data\n",
      "\n",
      "Adding X as counts\n",
      "\n",
      "Adding meta.features from var\n",
      "\n",
      "Warning message:\n",
      "“Unknown file type: h5ad”\n",
      "Warning message:\n",
      "“'assay' not set, setting to 'RNA'”\n",
      "Creating h5Seurat file for version 3.1.5.9900\n",
      "\n",
      "Adding X as scale.data\n",
      "\n",
      "Adding X as data\n",
      "\n",
      "Adding X as counts\n",
      "\n",
      "Adding meta.features from var\n",
      "\n"
     ]
    }
   ],
   "source": [
    "Convert(\"../../nbdata/iPSC_rna_ctr_preprocessed.h5ad\", dest = \"h5seurat\", overwrite = TRUE)\n",
    "Convert(\"../../nbdata/iPSC_rna_als_preprocessed.h5ad\", dest = \"h5seurat\", overwrite = TRUE)"
   ]
  },
  {
   "cell_type": "markdown",
   "metadata": {},
   "source": [
    "## Load Data"
   ]
  },
  {
   "cell_type": "code",
   "execution_count": 6,
   "metadata": {
    "scrolled": true,
    "tags": []
   },
   "outputs": [
    {
     "name": "stderr",
     "output_type": "stream",
     "text": [
      "Validating h5Seurat file\n",
      "\n",
      "Initializing RNA with data\n",
      "\n",
      "Adding counts for RNA\n",
      "\n",
      "Adding scale.data for RNA\n",
      "\n",
      "Adding feature-level metadata for RNA\n",
      "\n",
      "Adding command information\n",
      "\n",
      "Adding cell-level metadata\n",
      "\n",
      "Adding miscellaneous information\n",
      "\n",
      "Adding tool-specific results\n",
      "\n",
      "Validating h5Seurat file\n",
      "\n",
      "Initializing RNA with data\n",
      "\n",
      "Adding counts for RNA\n",
      "\n",
      "Adding scale.data for RNA\n",
      "\n",
      "Adding feature-level metadata for RNA\n",
      "\n",
      "Adding command information\n",
      "\n",
      "Adding cell-level metadata\n",
      "\n",
      "Adding miscellaneous information\n",
      "\n",
      "Adding tool-specific results\n",
      "\n"
     ]
    }
   ],
   "source": [
    "rnaCtr <- LoadH5Seurat(\"../../nbdata/iPSC_rna_ctr_preprocessed.h5seurat\")\n",
    "rnaAls <- LoadH5Seurat(\"../../nbdata/iPSC_rna_als_preprocessed.h5seurat\")"
   ]
  },
  {
   "cell_type": "code",
   "execution_count": 7,
   "metadata": {},
   "outputs": [],
   "source": [
    "rnaCtrAssay <- GetAssayData(rnaCtr)\n",
    "rnaAlsAssay <- GetAssayData(rnaAls)"
   ]
  },
  {
   "cell_type": "code",
   "execution_count": 10,
   "metadata": {},
   "outputs": [
    {
     "data": {
      "text/html": [
       "<style>\n",
       ".list-inline {list-style: none; margin:0; padding: 0}\n",
       ".list-inline>li {display: inline-block}\n",
       ".list-inline>li:not(:last-child)::after {content: \"\\00b7\"; padding: 0 .5ex}\n",
       "</style>\n",
       "<ol class=list-inline><li>29420</li><li>8</li></ol>\n"
      ],
      "text/latex": [
       "\\begin{enumerate*}\n",
       "\\item 29420\n",
       "\\item 8\n",
       "\\end{enumerate*}\n"
      ],
      "text/markdown": [
       "1. 29420\n",
       "2. 8\n",
       "\n",
       "\n"
      ],
      "text/plain": [
       "[1] 29420     8"
      ]
     },
     "metadata": {},
     "output_type": "display_data"
    },
    {
     "data": {
      "text/html": [
       "<style>\n",
       ".list-inline {list-style: none; margin:0; padding: 0}\n",
       ".list-inline>li {display: inline-block}\n",
       ".list-inline>li:not(:last-child)::after {content: \"\\00b7\"; padding: 0 .5ex}\n",
       "</style>\n",
       "<ol class=list-inline><li>32718</li><li>12</li></ol>\n"
      ],
      "text/latex": [
       "\\begin{enumerate*}\n",
       "\\item 32718\n",
       "\\item 12\n",
       "\\end{enumerate*}\n"
      ],
      "text/markdown": [
       "1. 32718\n",
       "2. 12\n",
       "\n",
       "\n"
      ],
      "text/plain": [
       "[1] 32718    12"
      ]
     },
     "metadata": {},
     "output_type": "display_data"
    }
   ],
   "source": [
    "dim(rnaCtrAssay)\n",
    "dim(rnaAlsAssay)"
   ]
  },
  {
   "cell_type": "code",
   "execution_count": 14,
   "metadata": {},
   "outputs": [],
   "source": [
    "tfList <- scan(\"../../nbdata/human_tflist.txt\", what=\"\", sep=\"\\n\")"
   ]
  },
  {
   "cell_type": "markdown",
   "metadata": {},
   "source": [
    "## Run GENIE3"
   ]
  },
  {
   "cell_type": "code",
   "execution_count": 19,
   "metadata": {},
   "outputs": [
    {
     "data": {
      "text/html": [
       "\n",
       "<table width=\"100%\" summary=\"page for GENIE3 {GENIE3}\"><tr><td>GENIE3 {GENIE3}</td><td style=\"text-align: right;\">R Documentation</td></tr></table>\n",
       "\n",
       "<h2>GENIE3</h2>\n",
       "\n",
       "<h3>Description</h3>\n",
       "\n",
       "<p><code>GENIE3</code> Infers a gene regulatory network (in the form of a weighted adjacency matrix) from expression data, using ensembles of regression trees.\n",
       "</p>\n",
       "\n",
       "\n",
       "<h3>Usage</h3>\n",
       "\n",
       "<pre>\n",
       "GENIE3(\n",
       "  exprMatrix,\n",
       "  regulators = NULL,\n",
       "  targets = NULL,\n",
       "  treeMethod = \"RF\",\n",
       "  K = \"sqrt\",\n",
       "  nTrees = 1000,\n",
       "  nCores = 1,\n",
       "  returnMatrix = TRUE,\n",
       "  verbose = FALSE\n",
       ")\n",
       "</pre>\n",
       "\n",
       "\n",
       "<h3>Arguments</h3>\n",
       "\n",
       "<table summary=\"R argblock\">\n",
       "<tr valign=\"top\"><td><code>exprMatrix</code></td>\n",
       "<td>\n",
       "<p>Expression matrix (genes x samples). Every row is a gene, every column is a sample.\n",
       "The expression matrix can also be provided as one of the Bioconductor classes:\n",
       "</p>\n",
       "\n",
       "<ul>\n",
       "<li> <p><code>ExpressionSet</code>: The matrix will be obtained through exprs(exprMatrix)\n",
       "</p>\n",
       "</li>\n",
       "<li> <p><code>RangedSummarizedExperiment</code>: The matrix will be obtained through assay(exprMatrix), wich will extract the first assay (usually the counts)\n",
       "</p>\n",
       "</li></ul>\n",
       "</td></tr>\n",
       "<tr valign=\"top\"><td><code>regulators</code></td>\n",
       "<td>\n",
       "<p>Subset of genes used as candidate regulators. Must be either a vector of gene names, e.g. <code>c(\"at_12377\", \"at_10912\")</code> or a vector of indices, e.g. <code>c(1,5,6,7)</code>. \n",
       "The default value NULL means that all the genes are used as candidate regulators (which is NOT recommended). To provide different regulators for each gene, providethem as named list.</p>\n",
       "</td></tr>\n",
       "<tr valign=\"top\"><td><code>targets</code></td>\n",
       "<td>\n",
       "<p>Subset of genes to which potential regulators will be calculated. Must be either a vector of indices, e.g. <code>c(1,5,6,7)</code>, or a vector of gene names, e.g. <code>c(\"at_12377\", \"at_10912\")</code>. If NULL (default), regulators will be calculated for all genes in the input matrix.</p>\n",
       "</td></tr>\n",
       "<tr valign=\"top\"><td><code>treeMethod</code></td>\n",
       "<td>\n",
       "<p>Tree-based method used. Must be either &quot;RF&quot; for Random Forests (default) or &quot;ET&quot; for Extra-Trees.</p>\n",
       "</td></tr>\n",
       "<tr valign=\"top\"><td><code>K</code></td>\n",
       "<td>\n",
       "<p>Number of candidate regulators randomly selected at each tree node (for the determination of the best split). Must be either &quot;sqrt&quot; for the square root of the total number of candidate regulators (default), &quot;all&quot; for the total number of candidate regulators, or a stricly positive integer.</p>\n",
       "</td></tr>\n",
       "<tr valign=\"top\"><td><code>nTrees</code></td>\n",
       "<td>\n",
       "<p>Number of trees in an ensemble for each target gene. Default: 1000.</p>\n",
       "</td></tr>\n",
       "<tr valign=\"top\"><td><code>nCores</code></td>\n",
       "<td>\n",
       "<p>Number of cores to use for parallel computing. Default: 1.</p>\n",
       "</td></tr>\n",
       "<tr valign=\"top\"><td><code>returnMatrix</code></td>\n",
       "<td>\n",
       "<p>Returns output as weight matrix (TRUE). Otherwise (FALSE) it is returned as a list.</p>\n",
       "</td></tr>\n",
       "<tr valign=\"top\"><td><code>verbose</code></td>\n",
       "<td>\n",
       "<p>If set to TRUE, a feedback on the progress of the calculations is given. Default: FALSE.</p>\n",
       "</td></tr>\n",
       "</table>\n",
       "\n",
       "\n",
       "<h3>Value</h3>\n",
       "\n",
       "<p>Weighted adjacency matrix of inferred network. Element w_ij (row i, column j) gives the importance of the link from regulatory gene i to target gene j.\n",
       "</p>\n",
       "\n",
       "\n",
       "<h3>Examples</h3>\n",
       "\n",
       "<pre>\n",
       "## Generate fake expression matrix\n",
       "exprMatrix &lt;- matrix(sample(1:10, 100, replace=TRUE), nrow=20)\n",
       "rownames(exprMatrix) &lt;- paste(\"Gene\", 1:20, sep=\"\")\n",
       "colnames(exprMatrix) &lt;- paste(\"Sample\", 1:5, sep=\"\")\n",
       "\n",
       "## Run GENIE3\n",
       "set.seed(123) # For reproducibility of results\n",
       "weightMatrix &lt;- GENIE3(exprMatrix, regulators=paste(\"Gene\", 1:5, sep=\"\"))\n",
       "\n",
       "## Get ranking of edges\n",
       "linkList &lt;- getLinkList(weightMatrix)\n",
       "head(linkList)\n",
       "\n",
       "## Different regulators for each gene &amp; return as list\n",
       "regulatorsList &lt;- list(\"Gene1\"=rownames(exprMatrix)[1:10],\n",
       "                       \"Gene2\"=rownames(exprMatrix)[10:20],\n",
       "                       \"Gene20\"=rownames(exprMatrix)[15:20])\n",
       "\n",
       "set.seed(123)\n",
       "weightList &lt;- GENIE3(exprMatrix, nCores=1, targets=names(regulatorsList), regulators=regulatorsList, returnMatrix=FALSE)\n",
       "\n",
       "</pre>\n",
       "\n",
       "<hr /><div style=\"text-align: center;\">[Package <em>GENIE3</em> version 1.16.0 ]</div>"
      ],
      "text/latex": [
       "\\inputencoding{utf8}\n",
       "\\HeaderA{GENIE3}{GENIE3}{GENIE3}\n",
       "%\n",
       "\\begin{Description}\\relax\n",
       "\\code{GENIE3} Infers a gene regulatory network (in the form of a weighted adjacency matrix) from expression data, using ensembles of regression trees.\n",
       "\\end{Description}\n",
       "%\n",
       "\\begin{Usage}\n",
       "\\begin{verbatim}\n",
       "GENIE3(\n",
       "  exprMatrix,\n",
       "  regulators = NULL,\n",
       "  targets = NULL,\n",
       "  treeMethod = \"RF\",\n",
       "  K = \"sqrt\",\n",
       "  nTrees = 1000,\n",
       "  nCores = 1,\n",
       "  returnMatrix = TRUE,\n",
       "  verbose = FALSE\n",
       ")\n",
       "\\end{verbatim}\n",
       "\\end{Usage}\n",
       "%\n",
       "\\begin{Arguments}\n",
       "\\begin{ldescription}\n",
       "\\item[\\code{exprMatrix}] Expression matrix (genes x samples). Every row is a gene, every column is a sample.\n",
       "The expression matrix can also be provided as one of the Bioconductor classes:\n",
       "\\begin{itemize}\n",
       "\n",
       "\\item{} \\code{ExpressionSet}: The matrix will be obtained through exprs(exprMatrix)\n",
       "\\item{} \\code{RangedSummarizedExperiment}: The matrix will be obtained through assay(exprMatrix), wich will extract the first assay (usually the counts)\n",
       "\n",
       "\\end{itemize}\n",
       "\n",
       "\n",
       "\\item[\\code{regulators}] Subset of genes used as candidate regulators. Must be either a vector of gene names, e.g. \\code{c(\"at\\_12377\", \"at\\_10912\")} or a vector of indices, e.g. \\code{c(1,5,6,7)}. \n",
       "The default value NULL means that all the genes are used as candidate regulators (which is NOT recommended). To provide different regulators for each gene, providethem as named list.\n",
       "\n",
       "\\item[\\code{targets}] Subset of genes to which potential regulators will be calculated. Must be either a vector of indices, e.g. \\code{c(1,5,6,7)}, or a vector of gene names, e.g. \\code{c(\"at\\_12377\", \"at\\_10912\")}. If NULL (default), regulators will be calculated for all genes in the input matrix.\n",
       "\n",
       "\\item[\\code{treeMethod}] Tree-based method used. Must be either \"RF\" for Random Forests (default) or \"ET\" for Extra-Trees.\n",
       "\n",
       "\\item[\\code{K}] Number of candidate regulators randomly selected at each tree node (for the determination of the best split). Must be either \"sqrt\" for the square root of the total number of candidate regulators (default), \"all\" for the total number of candidate regulators, or a stricly positive integer.\n",
       "\n",
       "\\item[\\code{nTrees}] Number of trees in an ensemble for each target gene. Default: 1000.\n",
       "\n",
       "\\item[\\code{nCores}] Number of cores to use for parallel computing. Default: 1.\n",
       "\n",
       "\\item[\\code{returnMatrix}] Returns output as weight matrix (TRUE). Otherwise (FALSE) it is returned as a list.\n",
       "\n",
       "\\item[\\code{verbose}] If set to TRUE, a feedback on the progress of the calculations is given. Default: FALSE.\n",
       "\\end{ldescription}\n",
       "\\end{Arguments}\n",
       "%\n",
       "\\begin{Value}\n",
       "Weighted adjacency matrix of inferred network. Element w\\_ij (row i, column j) gives the importance of the link from regulatory gene i to target gene j.\n",
       "\\end{Value}\n",
       "%\n",
       "\\begin{Examples}\n",
       "\\begin{ExampleCode}\n",
       "## Generate fake expression matrix\n",
       "exprMatrix <- matrix(sample(1:10, 100, replace=TRUE), nrow=20)\n",
       "rownames(exprMatrix) <- paste(\"Gene\", 1:20, sep=\"\")\n",
       "colnames(exprMatrix) <- paste(\"Sample\", 1:5, sep=\"\")\n",
       "\n",
       "## Run GENIE3\n",
       "set.seed(123) # For reproducibility of results\n",
       "weightMatrix <- GENIE3(exprMatrix, regulators=paste(\"Gene\", 1:5, sep=\"\"))\n",
       "\n",
       "## Get ranking of edges\n",
       "linkList <- getLinkList(weightMatrix)\n",
       "head(linkList)\n",
       "\n",
       "## Different regulators for each gene & return as list\n",
       "regulatorsList <- list(\"Gene1\"=rownames(exprMatrix)[1:10],\n",
       "                       \"Gene2\"=rownames(exprMatrix)[10:20],\n",
       "                       \"Gene20\"=rownames(exprMatrix)[15:20])\n",
       "\n",
       "set.seed(123)\n",
       "weightList <- GENIE3(exprMatrix, nCores=1, targets=names(regulatorsList), regulators=regulatorsList, returnMatrix=FALSE)\n",
       "\n",
       "\\end{ExampleCode}\n",
       "\\end{Examples}"
      ],
      "text/plain": [
       "GENIE3                 package:GENIE3                  R Documentation\n",
       "\n",
       "_\bG_\bE_\bN_\bI_\bE_\b3\n",
       "\n",
       "_\bD_\be_\bs_\bc_\br_\bi_\bp_\bt_\bi_\bo_\bn:\n",
       "\n",
       "     ‘GENIE3’ Infers a gene regulatory network (in the form of a\n",
       "     weighted adjacency matrix) from expression data, using ensembles\n",
       "     of regression trees.\n",
       "\n",
       "_\bU_\bs_\ba_\bg_\be:\n",
       "\n",
       "     GENIE3(\n",
       "       exprMatrix,\n",
       "       regulators = NULL,\n",
       "       targets = NULL,\n",
       "       treeMethod = \"RF\",\n",
       "       K = \"sqrt\",\n",
       "       nTrees = 1000,\n",
       "       nCores = 1,\n",
       "       returnMatrix = TRUE,\n",
       "       verbose = FALSE\n",
       "     )\n",
       "     \n",
       "_\bA_\br_\bg_\bu_\bm_\be_\bn_\bt_\bs:\n",
       "\n",
       "exprMatrix: Expression matrix (genes x samples). Every row is a gene,\n",
       "          every column is a sample. The expression matrix can also be\n",
       "          provided as one of the Bioconductor classes:\n",
       "\n",
       "            • ‘ExpressionSet’: The matrix will be obtained through\n",
       "              exprs(exprMatrix)\n",
       "\n",
       "            • ‘RangedSummarizedExperiment’: The matrix will be obtained\n",
       "              through assay(exprMatrix), wich will extract the first\n",
       "              assay (usually the counts)\n",
       "\n",
       "regulators: Subset of genes used as candidate regulators. Must be\n",
       "          either a vector of gene names, e.g. ‘c(\"at_12377\",\n",
       "          \"at_10912\")’ or a vector of indices, e.g. ‘c(1,5,6,7)’.  The\n",
       "          default value NULL means that all the genes are used as\n",
       "          candidate regulators (which is NOT recommended). To provide\n",
       "          different regulators for each gene, providethem as named\n",
       "          list.\n",
       "\n",
       " targets: Subset of genes to which potential regulators will be\n",
       "          calculated. Must be either a vector of indices, e.g.\n",
       "          ‘c(1,5,6,7)’, or a vector of gene names, e.g. ‘c(\"at_12377\",\n",
       "          \"at_10912\")’. If NULL (default), regulators will be\n",
       "          calculated for all genes in the input matrix.\n",
       "\n",
       "treeMethod: Tree-based method used. Must be either \"RF\" for Random\n",
       "          Forests (default) or \"ET\" for Extra-Trees.\n",
       "\n",
       "       K: Number of candidate regulators randomly selected at each tree\n",
       "          node (for the determination of the best split). Must be\n",
       "          either \"sqrt\" for the square root of the total number of\n",
       "          candidate regulators (default), \"all\" for the total number of\n",
       "          candidate regulators, or a stricly positive integer.\n",
       "\n",
       "  nTrees: Number of trees in an ensemble for each target gene. Default:\n",
       "          1000.\n",
       "\n",
       "  nCores: Number of cores to use for parallel computing. Default: 1.\n",
       "\n",
       "returnMatrix: Returns output as weight matrix (TRUE). Otherwise (FALSE)\n",
       "          it is returned as a list.\n",
       "\n",
       " verbose: If set to TRUE, a feedback on the progress of the\n",
       "          calculations is given. Default: FALSE.\n",
       "\n",
       "_\bV_\ba_\bl_\bu_\be:\n",
       "\n",
       "     Weighted adjacency matrix of inferred network. Element w_ij (row\n",
       "     i, column j) gives the importance of the link from regulatory gene\n",
       "     i to target gene j.\n",
       "\n",
       "_\bE_\bx_\ba_\bm_\bp_\bl_\be_\bs:\n",
       "\n",
       "     ## Generate fake expression matrix\n",
       "     exprMatrix <- matrix(sample(1:10, 100, replace=TRUE), nrow=20)\n",
       "     rownames(exprMatrix) <- paste(\"Gene\", 1:20, sep=\"\")\n",
       "     colnames(exprMatrix) <- paste(\"Sample\", 1:5, sep=\"\")\n",
       "     \n",
       "     ## Run GENIE3\n",
       "     set.seed(123) # For reproducibility of results\n",
       "     weightMatrix <- GENIE3(exprMatrix, regulators=paste(\"Gene\", 1:5, sep=\"\"))\n",
       "     \n",
       "     ## Get ranking of edges\n",
       "     linkList <- getLinkList(weightMatrix)\n",
       "     head(linkList)\n",
       "     \n",
       "     ## Different regulators for each gene & return as list\n",
       "     regulatorsList <- list(\"Gene1\"=rownames(exprMatrix)[1:10],\n",
       "                            \"Gene2\"=rownames(exprMatrix)[10:20],\n",
       "                            \"Gene20\"=rownames(exprMatrix)[15:20])\n",
       "     \n",
       "     set.seed(123)\n",
       "     weightList <- GENIE3(exprMatrix, nCores=1, targets=names(regulatorsList), regulators=regulatorsList, returnMatrix=FALSE)\n",
       "     "
      ]
     },
     "metadata": {},
     "output_type": "display_data"
    }
   ],
   "source": [
    "?GENIE3"
   ]
  },
  {
   "cell_type": "code",
   "execution_count": 33,
   "metadata": {},
   "outputs": [
    {
     "name": "stderr",
     "output_type": "stream",
     "text": [
      "also installing the dependency ‘rngtools’\n",
      "\n",
      "\n"
     ]
    }
   ],
   "source": [
    "install.packages('doParallel')\n",
    "install.packages('doRNG')"
   ]
  },
  {
   "cell_type": "code",
   "execution_count": 34,
   "metadata": {
    "scrolled": true,
    "tags": []
   },
   "outputs": [
    {
     "name": "stderr",
     "output_type": "stream",
     "text": [
      "Tree method: RF\n",
      "K: sqrt\n",
      "Number of trees: 1000\n",
      "\n",
      "\n",
      "Using 32 cores.\n",
      "\n"
     ]
    }
   ],
   "source": [
    "rnaCtrWeights <- GENIE3(\n",
    "    rnaCtrAssay,\n",
    "    regulators = intersect(rownames(rnaCtr), tfList),\n",
    "    verbose = TRUE, \n",
    "    nCores = 32\n",
    ")"
   ]
  },
  {
   "cell_type": "code",
   "execution_count": 41,
   "metadata": {},
   "outputs": [
    {
     "name": "stderr",
     "output_type": "stream",
     "text": [
      "Tree method: RF\n",
      "K: sqrt\n",
      "Number of trees: 1000\n",
      "\n",
      "\n",
      "Using 32 cores.\n",
      "\n"
     ]
    }
   ],
   "source": [
    "rnaAlsWeights <- GENIE3(\n",
    "    rnaAlsAssay,\n",
    "    regulators = intersect(rownames(rnaAls), tfList),\n",
    "    verbose = TRUE, \n",
    "    nCores = 32\n",
    ")"
   ]
  },
  {
   "cell_type": "code",
   "execution_count": 43,
   "metadata": {},
   "outputs": [],
   "source": [
    "write.table(rnaCtrWeights, file = \"../../nbdata/iPSC_rna_ctr_genie_weights.csv\", sep=\",\")\n",
    "write.table(rnaAlsWeights, file = \"../../nbdata/iPSC_rna_als_genie_weights.csv\", sep=\",\")"
   ]
  }
 ],
 "metadata": {
  "kernelspec": {
   "display_name": "R",
   "language": "R",
   "name": "ir"
  },
  "language_info": {
   "codemirror_mode": "r",
   "file_extension": ".r",
   "mimetype": "text/x-r-source",
   "name": "R",
   "pygments_lexer": "r",
   "version": "4.1.0"
  }
 },
 "nbformat": 4,
 "nbformat_minor": 4
}
