{
 "cells": [
  {
   "cell_type": "code",
   "execution_count": 2,
   "id": "81f62f0d-639c-4d4f-8538-80770b2c1ecc",
   "metadata": {},
   "outputs": [],
   "source": [
    "import sys"
   ]
  },
  {
   "cell_type": "code",
   "execution_count": 3,
   "id": "aa5dbce5-30c2-47c0-82ec-ec3f63389007",
   "metadata": {},
   "outputs": [],
   "source": [
    "BASE_DIR = \"../..\"\n",
    "DATA_DIR = f\"{BASE_DIR}/data\"\n",
    "NBDATA_DIR = f\"{BASE_DIR}/nbdata\"\n",
    "FIG_DIR = f\"{BASE_DIR}/figs\""
   ]
  },
  {
   "cell_type": "code",
   "execution_count": 4,
   "id": "3bef8825-c82d-4e86-9691-c06f36423581",
   "metadata": {},
   "outputs": [],
   "source": [
    "sys.path.append(BASE_DIR)"
   ]
  },
  {
   "cell_type": "code",
   "execution_count": 5,
   "id": "cf237956-bc01-4b4c-80f5-0058d3f70834",
   "metadata": {},
   "outputs": [],
   "source": [
    "import numpy as np\n",
    "import pandas as pd\n",
    "import matplotlib.pyplot as plt\n",
    "import seaborn as sns\n",
    "import networkx as nx"
   ]
  },
  {
   "cell_type": "code",
   "execution_count": 6,
   "id": "d31d169d-e405-445e-8778-df248c7413a5",
   "metadata": {},
   "outputs": [],
   "source": [
    "import anndata as ad\n",
    "import scanpy as sc"
   ]
  },
  {
   "cell_type": "markdown",
   "id": "3bfc76ab-8fd6-4596-94ca-a66b298d13f4",
   "metadata": {},
   "source": [
    "## Write Expression Data"
   ]
  },
  {
   "cell_type": "code",
   "execution_count": 8,
   "id": "b30da1b1-52b6-4fa4-b64c-c95eaec3945b",
   "metadata": {},
   "outputs": [],
   "source": [
    "control_save_path = f\"{NBDATA_DIR}/iPSC_rna_ctr_preprocessed.h5ad\"\n",
    "als_save_path = f\"{NBDATA_DIR}/iPSC_rna_als_preprocessed.h5ad\""
   ]
  },
  {
   "cell_type": "code",
   "execution_count": 9,
   "id": "2ed2a148-cf27-42a2-a238-9a58441c4d9e",
   "metadata": {},
   "outputs": [],
   "source": [
    "rna_adata_als = ad.read_h5ad(als_save_path)\n",
    "rna_adata_ctr = ad.read_h5ad(control_save_path)"
   ]
  },
  {
   "cell_type": "code",
   "execution_count": 12,
   "id": "d024fc46-4df5-440c-8938-05dc3807f287",
   "metadata": {},
   "outputs": [],
   "source": [
    "rna_adata = rna_adata_ctr.concatenate(rna_adata_als)"
   ]
  },
  {
   "cell_type": "code",
   "execution_count": 42,
   "id": "3d4e275c-feee-47e4-bc3d-dc76974736c3",
   "metadata": {},
   "outputs": [
    {
     "data": {
      "text/plain": [
       "20"
      ]
     },
     "execution_count": 42,
     "metadata": {},
     "output_type": "execute_result"
    }
   ],
   "source": []
  },
  {
   "cell_type": "code",
   "execution_count": 39,
   "id": "eab76034-d640-4540-9fb8-c725a03f99c6",
   "metadata": {},
   "outputs": [],
   "source": [
    "expression_data = pd.DataFrame(rna_adata.X.T,\n",
    "                               columns=rna_adata.obs.ip_center_batch_id,\n",
    "                               index=rna_adata.var.HGNC\n",
    "                              )\n",
    "expression_data.insert(0,\"Description\",rna_adata.var.index)\n",
    "expression_data.index.name = 'Name'\n",
    "expression_data = expression_data.reset_index(drop=False)\n",
    "expression_data.to_csv(f\"{NBDATA_DIR}/iPSC_rna_preprocessed_GSEA.txt\",\n",
    "                       sep=\"\\t\",\n",
    "                       index=False,header=True\n",
    "                      )"
   ]
  },
  {
   "cell_type": "markdown",
   "id": "193dc08a-29ca-4047-ad3e-f7c7fed64b37",
   "metadata": {},
   "source": [
    "## Write Phenotype File"
   ]
  },
  {
   "cell_type": "code",
   "execution_count": 44,
   "id": "a9a70885-8f19-40b9-866d-8fb6af126fe3",
   "metadata": {},
   "outputs": [
    {
     "data": {
      "text/plain": [
       "array(['CTR', 'CTR', 'CTR', 'CTR', 'CTR', 'CTR', 'CTR', 'CTR', 'ALS',\n",
       "       'ALS', 'ALS', 'ALS', 'ALS', 'ALS', 'ALS', 'ALS', 'ALS', 'ALS',\n",
       "       'ALS', 'ALS'], dtype=object)"
      ]
     },
     "execution_count": 44,
     "metadata": {},
     "output_type": "execute_result"
    }
   ],
   "source": [
    "rna_adata.obs.Condition.values"
   ]
  },
  {
   "cell_type": "code",
   "execution_count": 46,
   "id": "77917fe7-4ae8-44b9-866f-c0190b5c0108",
   "metadata": {},
   "outputs": [],
   "source": [
    "with open(f\"{NBDATA_DIR}/iPSC_rna_phenotypes.cls\",\"w+\") as f:\n",
    "    f.write(f\"{rna_adata.shape[0]} 2 1\\n\")\n",
    "    f.write(f\"# CTR ALS\\n\")\n",
    "    f.write(f\"{' '.join(rna_adata.obs.Condition.values)}\\n\")"
   ]
  }
 ],
 "metadata": {
  "kernelspec": {
   "display_name": "dsplat",
   "language": "python",
   "name": "dsplat"
  },
  "language_info": {
   "codemirror_mode": {
    "name": "ipython",
    "version": 3
   },
   "file_extension": ".py",
   "mimetype": "text/x-python",
   "name": "python",
   "nbconvert_exporter": "python",
   "pygments_lexer": "ipython3",
   "version": "3.7.10"
  }
 },
 "nbformat": 4,
 "nbformat_minor": 5
}
