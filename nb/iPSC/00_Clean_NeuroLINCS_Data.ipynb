{
 "cells": [
  {
   "cell_type": "code",
   "execution_count": 4,
   "id": "debaba8e-e32b-488a-b734-6fd934982a6f",
   "metadata": {},
   "outputs": [],
   "source": [
    "import sys"
   ]
  },
  {
   "cell_type": "code",
   "execution_count": 5,
   "id": "163e1499-3caf-41fa-924d-69889fc64e23",
   "metadata": {},
   "outputs": [],
   "source": [
    "BASE_DIR = \"../..\"\n",
    "DATA_DIR = f\"{BASE_DIR}/data\"\n",
    "NBDATA_DIR = f\"{BASE_DIR}/nbdata\"\n",
    "FIG_DIR = f\"{BASE_DIR}/figs\""
   ]
  },
  {
   "cell_type": "code",
   "execution_count": 6,
   "id": "fb02cc0c-7fe8-420e-9f37-6121fb3f4ab3",
   "metadata": {},
   "outputs": [],
   "source": [
    "sys.path.append(BASE_DIR)"
   ]
  },
  {
   "cell_type": "code",
   "execution_count": 7,
   "id": "2df57c0d-bffa-4063-a66d-a6eb59464304",
   "metadata": {},
   "outputs": [],
   "source": [
    "import numpy as np\n",
    "import pandas as pd\n",
    "import matplotlib.pyplot as plt\n",
    "import seaborn as sns"
   ]
  },
  {
   "cell_type": "code",
   "execution_count": 8,
   "id": "de87b078-6a68-46a3-8cbd-230a618abe2d",
   "metadata": {},
   "outputs": [],
   "source": [
    "import anndata as ad\n",
    "import scanpy as sc"
   ]
  },
  {
   "cell_type": "markdown",
   "id": "7653f4c2-f81c-4dfd-b848-e358c6bb3d11",
   "metadata": {
    "tags": []
   },
   "source": [
    "## Read Data"
   ]
  },
  {
   "cell_type": "markdown",
   "id": "c0187909-8cff-4e9b-ac01-363a2d3e5e38",
   "metadata": {},
   "source": [
    "### Transcriptomic"
   ]
  },
  {
   "cell_type": "code",
   "execution_count": 9,
   "id": "6d8b61be-92ce-40fd-8c59-15bb7873af79",
   "metadata": {},
   "outputs": [],
   "source": [
    "rna_adata = ad.read_csv(f\"{DATA_DIR}/iPSC_DESeq_JUL2015_all_merged_ensemble_DataLevel3.csv\").T"
   ]
  },
  {
   "cell_type": "code",
   "execution_count": 10,
   "id": "021f9da5-6971-4b4c-b472-980e086e4379",
   "metadata": {},
   "outputs": [],
   "source": [
    "rna_meta = pd.read_csv(f\"{DATA_DIR}/RNAseq_metadata.tsv\",sep=\"\\t\")\n",
    "rna_meta[\"Condition\"] = rna_meta.IP_Name.transform(lambda x: x.split(\"-\")[0][-3:])\n",
    "rna_adata.obs = rna_meta"
   ]
  },
  {
   "cell_type": "code",
   "execution_count": 11,
   "id": "3c6ad543-2d2c-4932-adec-e30cdaaf5714",
   "metadata": {},
   "outputs": [],
   "source": [
    "rna_adata.obs[['ip_center_batch_id','Condition']].to_csv(f'{NBDATA_DIR}/iPSC_id_condition_map.tsv',sep='\\t',header=True,index=False)"
   ]
  },
  {
   "cell_type": "code",
   "execution_count": 12,
   "id": "071ccb8b-ddfb-4e68-a9fc-1d342d159650",
   "metadata": {},
   "outputs": [
    {
     "data": {
      "text/plain": [
       "AnnData object with n_obs × n_vars = 29 × 63677\n",
       "    obs: 'IP_Name', 'IP_LINCS_ID', 'ip_center_batch_id', 'IP_Known_Mutations', 'IP_Mutation_Citations', 'IP_Culture_Conditions', 'IP_Passaging_Method', 'IP_Passage_Number', 'IP_Passage_Last_Karyotyping', 'IP_Recommended_Culture_Conditions', 'IP_Relevant_Citations', 'IP_Center_Name', 'IP_Provider_Name', 'IP_Provider_Catalog_ID', 'IP_Provider_Batch_ID', 'IP_Center_Specific_Code', 'IP_Quality_Verification', 'IP_Alternative_Name', 'IP_Alternative_ID', 'IP_Molecular_Features', 'IP_Related_Projects', 'IP_Cell_Markers', 'IP_Transient_Modification', 'IP_Genetic_Modification', 'Condition'"
      ]
     },
     "execution_count": 12,
     "metadata": {},
     "output_type": "execute_result"
    }
   ],
   "source": [
    "rna_adata"
   ]
  },
  {
   "cell_type": "markdown",
   "id": "6c3b8ab7-f921-4736-8f50-d217b67a3920",
   "metadata": {},
   "source": [
    "## Gene Name Mapping"
   ]
  },
  {
   "cell_type": "code",
   "execution_count": 9,
   "id": "2abe78b1-1fce-44e2-bcc6-0eb85baef3d5",
   "metadata": {},
   "outputs": [],
   "source": [
    "import biomart                                                                                                                                                                                              \n",
    "\n",
    "def get_ensembl_mappings():    \n",
    "    # from https://gist.github.com/ben-heil/cffbebf8865795fe2efbbfec041da969\n",
    "    # Set up connection to server                                                                                                                                                                           \n",
    "    server = biomart.BiomartServer('http://useast.ensembl.org/biomart')                                                                                                                                     \n",
    "    mart = server.datasets['hsapiens_gene_ensembl']                                                                                                                                                        \n",
    "\n",
    "    # List the types of data we want                                                                                                                                                                        \n",
    "    attributes = ['ensembl_transcript_id', 'hgnc_symbol',                                                                                                                                                    \n",
    "                  'ensembl_gene_id', 'ensembl_peptide_id']                                                                                                                                                  \n",
    "\n",
    "    # Get the mapping between the attributes                                                                                                                                                                \n",
    "    response = mart.search({'attributes': attributes})                                                                                                                                                      \n",
    "    data = response.raw.data.decode('ascii')                                                                                                                                                                \n",
    "\n",
    "    ensembl_to_genesymbol = {}                                                                                                                                                                              \n",
    "    # Store the data in a dict                                                                                                                                                                              \n",
    "    for line in data.splitlines():                                                                                                                                                                          \n",
    "        line = line.split('\\t')                                                                                                                                                                             \n",
    "        # The entries are in the same order as in the `attributes` variable                                                                                                                                 \n",
    "        transcript_id = line[0]                                                                                                                                                                             \n",
    "        gene_symbol = line[1]                                                                                                                                                                               \n",
    "        ensembl_gene = line[2]                                                                                                                                                                              \n",
    "        ensembl_peptide = line[3]                                                                                                                                                                           \n",
    "\n",
    "        # Some of these keys may be an empty string. If you want, you can\n",
    "        # avoid having a '' key in your dict by ensuring the\n",
    "        # transcript/gene/peptide ids have a nonzero length before\n",
    "        # adding them to the dict\n",
    "        ensembl_to_genesymbol[transcript_id] = gene_symbol\n",
    "        ensembl_to_genesymbol[ensembl_gene] = gene_symbol\n",
    "        ensembl_to_genesymbol[ensembl_peptide] = gene_symbol\n",
    "\n",
    "    return ensembl_to_genesymbol\n",
    "\n",
    "ens2gene = get_ensembl_mappings()"
   ]
  },
  {
   "cell_type": "code",
   "execution_count": 10,
   "id": "a6ad5fda-d606-4707-9c91-0b81a2f54dd4",
   "metadata": {
    "tags": []
   },
   "outputs": [
    {
     "data": {
      "application/vnd.jupyter.widget-view+json": {
       "model_id": "d63f64f8a42143c38e66c97a2df7b903",
       "version_major": 2,
       "version_minor": 0
      },
      "text/plain": [
       "  0%|          | 0/63677 [00:00<?, ?it/s]"
      ]
     },
     "metadata": {},
     "output_type": "display_data"
    }
   ],
   "source": [
    "from gprofiler import GProfiler\n",
    "from tqdm.notebook import tqdm\n",
    "\n",
    "def get_ens2hgnc_mappings(query_list):\n",
    "\n",
    "    gp = GProfiler(return_dataframe=True)\n",
    "    gp_database = gp.convert(organism='hsapiens',query=query_list, target_namespace='HGNC').set_index('incoming')\n",
    "    \n",
    "    ens2hgnc = {}\n",
    "    for ens in tqdm(query_list):\n",
    "        mapper = gp_database.loc[ens,'converted']\n",
    "        if not isinstance(mapper,str):\n",
    "            mapper = mapper[0]\n",
    "        if mapper == 'None':\n",
    "            mapper = ens\n",
    "        ens2hgnc[ens] = mapper\n",
    "    \n",
    "        \n",
    "    return ens2hgnc\n",
    "\n",
    "ens2gene = get_ens2hgnc_mappings(list(rna_adata.var.index))"
   ]
  },
  {
   "cell_type": "code",
   "execution_count": 11,
   "id": "86419153-4d7d-4d8b-9392-e8ce045c4f1f",
   "metadata": {},
   "outputs": [],
   "source": [
    "rna_adata.var['HGNC'] = rna_adata.var.index.map(ens2gene)"
   ]
  },
  {
   "cell_type": "code",
   "execution_count": 17,
   "id": "c0d499a8-4538-4588-9142-366257f4386c",
   "metadata": {},
   "outputs": [],
   "source": [
    "rna_adata.var\\\n",
    "    .reset_index()[['index','HGNC']]\\\n",
    "    .rename({'index':'ENSG'},axis=1)\\\n",
    "    .sort_values(by='ENSG')\\\n",
    "    .to_csv(f'{NBDATA_DIR}/iPSC_ENSG_HGNC_mapping.tsv',sep='\\t',header=True,index=False)"
   ]
  },
  {
   "cell_type": "markdown",
   "id": "9fea62e9-cbe9-429b-b85e-19a24fb989ba",
   "metadata": {
    "tags": []
   },
   "source": [
    "## Split by Condition"
   ]
  },
  {
   "cell_type": "code",
   "execution_count": 48,
   "id": "f2d8a62c-0480-4524-a00a-2e3c20eaeba1",
   "metadata": {},
   "outputs": [
    {
     "name": "stderr",
     "output_type": "stream",
     "text": [
      "/afs/csail.mit.edu/u/s/samsl/.local/lib/python3.7/site-packages/anndata/_core/anndata.py:1094: FutureWarning: is_categorical is deprecated and will be removed in a future version.  Use is_categorical_dtype instead\n",
      "  if not is_categorical(df_full[k]):\n"
     ]
    }
   ],
   "source": [
    "rna_adata_ctr = rna_adata[rna_adata.obs.Condition == 'CTR']\n",
    "rna_adata_als = rna_adata[rna_adata.obs.Condition == 'ALS']\n",
    "rna_adata_sma = rna_adata[rna_adata.obs.Condition == 'SMA']"
   ]
  },
  {
   "cell_type": "code",
   "execution_count": 82,
   "id": "754d5fae-e9f9-4b35-a230-a6c70ebd5bb5",
   "metadata": {},
   "outputs": [
    {
     "data": {
      "text/plain": [
       "AnnData object with n_obs × n_vars = 12 × 32718\n",
       "    obs: 'IP_Name', 'IP_LINCS_ID', 'ip_center_batch_id', 'IP_Known_Mutations', 'IP_Mutation_Citations', 'IP_Culture_Conditions', 'IP_Passaging_Method', 'IP_Passage_Number', 'IP_Passage_Last_Karyotyping', 'IP_Recommended_Culture_Conditions', 'IP_Relevant_Citations', 'IP_Center_Name', 'IP_Provider_Name', 'IP_Provider_Catalog_ID', 'IP_Provider_Batch_ID', 'IP_Center_Specific_Code', 'IP_Quality_Verification', 'IP_Alternative_Name', 'IP_Alternative_ID', 'IP_Molecular_Features', 'IP_Related_Projects', 'IP_Cell_Markers', 'IP_Transient_Modification', 'IP_Genetic_Modification', 'Condition', 'n_genes', 'n_genes_by_counts', 'log1p_n_genes_by_counts', 'total_counts', 'log1p_total_counts', 'total_counts_mt', 'log1p_total_counts_mt', 'pct_counts_mt'\n",
       "    var: 'HGNC', 'n_cells', 'mt', 'n_cells_by_counts', 'mean_counts', 'log1p_mean_counts', 'pct_dropout_by_counts', 'total_counts', 'log1p_total_counts', 'highly_variable', 'means', 'dispersions', 'dispersions_norm'\n",
       "    uns: 'log1p'"
      ]
     },
     "execution_count": 82,
     "metadata": {},
     "output_type": "execute_result"
    }
   ],
   "source": [
    "rna_adata_als"
   ]
  },
  {
   "cell_type": "markdown",
   "id": "2f528f24-bb92-4622-9f80-48b7759aba88",
   "metadata": {},
   "source": [
    "## RNA Preprocessing and QC"
   ]
  },
  {
   "cell_type": "code",
   "execution_count": 49,
   "id": "ebf5ed08-5480-42b0-9f71-8d76ee1ac5b4",
   "metadata": {},
   "outputs": [],
   "source": [
    "def preprocess_and_qc(adata):\n",
    "    sc.pp.filter_cells(adata, min_genes=200)\n",
    "    sc.pp.filter_genes(adata, min_cells=3)\n",
    "    \n",
    "    sc.pp.normalize_total(adata, target_sum=1e4)\n",
    "    sc.pp.log1p(adata)\n",
    "    \n",
    "    adata.var['mt'] = adata.var.HGNC.str.startswith('MT-')  # annotate the group of mitochondrial genes as 'mt'\n",
    "    sc.pp.calculate_qc_metrics(adata, qc_vars=['mt'], percent_top=None, inplace=True)\n",
    "    \n",
    "    sc.pp.highly_variable_genes(adata, min_mean=0.0125, max_mean=3, min_disp=0.5)\n",
    "    \n",
    "    return adata"
   ]
  },
  {
   "cell_type": "code",
   "execution_count": 50,
   "id": "9982558e-4f39-4726-8ec0-e9c6b7364ab0",
   "metadata": {},
   "outputs": [
    {
     "name": "stderr",
     "output_type": "stream",
     "text": [
      "Trying to set attribute `.obs` of view, copying.\n",
      "/afs/csail.mit.edu/u/s/samsl/.local/lib/python3.7/site-packages/anndata/_core/anndata.py:119: ImplicitModificationWarning: Transforming to str index.\n",
      "  warnings.warn(\"Transforming to str index.\", ImplicitModificationWarning)\n",
      "/afs/csail.mit.edu/u/s/samsl/.local/lib/python3.7/site-packages/scanpy/preprocessing/_simple.py:297: DeprecationWarning: Use is_view instead of isview, isview will be removed in the future.\n",
      "  if isinstance(data, AnnData) and data.isview:\n",
      "Trying to set attribute `.obs` of view, copying.\n",
      "/afs/csail.mit.edu/u/s/samsl/.local/lib/python3.7/site-packages/anndata/_core/anndata.py:119: ImplicitModificationWarning: Transforming to str index.\n",
      "  warnings.warn(\"Transforming to str index.\", ImplicitModificationWarning)\n",
      "/afs/csail.mit.edu/u/s/samsl/.local/lib/python3.7/site-packages/anndata/_core/anndata.py:1094: FutureWarning: is_categorical is deprecated and will be removed in a future version.  Use is_categorical_dtype instead\n",
      "  if not is_categorical(df_full[k]):\n",
      "/afs/csail.mit.edu/u/s/samsl/.local/lib/python3.7/site-packages/scanpy/preprocessing/_simple.py:297: DeprecationWarning: Use is_view instead of isview, isview will be removed in the future.\n",
      "  if isinstance(data, AnnData) and data.isview:\n"
     ]
    }
   ],
   "source": [
    "rna_adata_ctr = preprocess_and_qc(rna_adata_ctr)\n",
    "rna_adata_als = preprocess_and_qc(rna_adata_als)"
   ]
  },
  {
   "cell_type": "markdown",
   "id": "1d0b8015-1dff-4006-ba5b-6328991f1a0a",
   "metadata": {},
   "source": [
    "### Highly Variable Genes"
   ]
  },
  {
   "cell_type": "code",
   "execution_count": 51,
   "id": "0a6b394c-3bf6-4de0-ac3a-99abe008e20d",
   "metadata": {},
   "outputs": [
    {
     "data": {
      "image/png": "[encoded data removed]",
      "text/plain": [
       "<Figure size 864x288 with 2 Axes>"
      ]
     },
     "metadata": {
      "needs_background": "light"
     },
     "output_type": "display_data"
    },
    {
     "data": {
      "image/png": "[encoded data removed]",
      "text/plain": [
       "<Figure size 864x288 with 2 Axes>"
      ]
     },
     "metadata": {
      "needs_background": "light"
     },
     "output_type": "display_data"
    }
   ],
   "source": [
    "sc.pl.highly_variable_genes(rna_adata_als)\n",
    "sc.pl.highly_variable_genes(rna_adata_ctr)"
   ]
  },
  {
   "cell_type": "code",
   "execution_count": 52,
   "id": "4ac2f102-ece0-4116-98a0-b58f1e62a02d",
   "metadata": {},
   "outputs": [
    {
     "data": {
      "text/html": [
       "<div>\n",
       "<style scoped>\n",
       "    .dataframe tbody tr th:only-of-type {\n",
       "        vertical-align: middle;\n",
       "    }\n",
       "\n",
       "    .dataframe tbody tr th {\n",
       "        vertical-align: top;\n",
       "    }\n",
       "\n",
       "    .dataframe thead th {\n",
       "        text-align: right;\n",
       "    }\n",
       "</style>\n",
       "<table border=\"1\" class=\"dataframe\">\n",
       "  <thead>\n",
       "    <tr style=\"text-align: right;\">\n",
       "      <th></th>\n",
       "      <th>HGNC</th>\n",
       "      <th>n_cells</th>\n",
       "      <th>mt</th>\n",
       "      <th>n_cells_by_counts</th>\n",
       "      <th>mean_counts</th>\n",
       "      <th>log1p_mean_counts</th>\n",
       "      <th>pct_dropout_by_counts</th>\n",
       "      <th>total_counts</th>\n",
       "      <th>log1p_total_counts</th>\n",
       "      <th>highly_variable</th>\n",
       "      <th>means</th>\n",
       "      <th>dispersions</th>\n",
       "      <th>dispersions_norm</th>\n",
       "    </tr>\n",
       "  </thead>\n",
       "  <tbody>\n",
       "    <tr>\n",
       "      <th>ENSG00000152661</th>\n",
       "      <td>GJA1</td>\n",
       "      <td>8</td>\n",
       "      <td>False</td>\n",
       "      <td>8</td>\n",
       "      <td>2.938997</td>\n",
       "      <td>1.370926</td>\n",
       "      <td>0.0</td>\n",
       "      <td>23.511972</td>\n",
       "      <td>3.199162</td>\n",
       "      <td>True</td>\n",
       "      <td>2.986594</td>\n",
       "      <td>0.862180</td>\n",
       "      <td>0.927068</td>\n",
       "    </tr>\n",
       "    <tr>\n",
       "      <th>ENSG00000140988</th>\n",
       "      <td>RPS2</td>\n",
       "      <td>8</td>\n",
       "      <td>False</td>\n",
       "      <td>8</td>\n",
       "      <td>2.879912</td>\n",
       "      <td>1.355812</td>\n",
       "      <td>0.0</td>\n",
       "      <td>23.039293</td>\n",
       "      <td>3.179690</td>\n",
       "      <td>True</td>\n",
       "      <td>2.896774</td>\n",
       "      <td>-0.217506</td>\n",
       "      <td>0.516767</td>\n",
       "    </tr>\n",
       "    <tr>\n",
       "      <th>ENSG00000231500</th>\n",
       "      <td>RPS18</td>\n",
       "      <td>8</td>\n",
       "      <td>False</td>\n",
       "      <td>8</td>\n",
       "      <td>2.870066</td>\n",
       "      <td>1.353271</td>\n",
       "      <td>0.0</td>\n",
       "      <td>22.960526</td>\n",
       "      <td>3.176408</td>\n",
       "      <td>True</td>\n",
       "      <td>2.892879</td>\n",
       "      <td>0.251492</td>\n",
       "      <td>0.894089</td>\n",
       "    </tr>\n",
       "    <tr>\n",
       "      <th>ENSG00000080824</th>\n",
       "      <td>HSP90AA1</td>\n",
       "      <td>8</td>\n",
       "      <td>False</td>\n",
       "      <td>8</td>\n",
       "      <td>2.866907</td>\n",
       "      <td>1.352455</td>\n",
       "      <td>0.0</td>\n",
       "      <td>22.935255</td>\n",
       "      <td>3.175353</td>\n",
       "      <td>True</td>\n",
       "      <td>2.906403</td>\n",
       "      <td>0.471016</td>\n",
       "      <td>1.070703</td>\n",
       "    </tr>\n",
       "    <tr>\n",
       "      <th>ENSG00000265992</th>\n",
       "      <td>ESRG</td>\n",
       "      <td>8</td>\n",
       "      <td>False</td>\n",
       "      <td>8</td>\n",
       "      <td>2.846929</td>\n",
       "      <td>1.347275</td>\n",
       "      <td>0.0</td>\n",
       "      <td>22.775433</td>\n",
       "      <td>3.168653</td>\n",
       "      <td>True</td>\n",
       "      <td>2.939378</td>\n",
       "      <td>1.494964</td>\n",
       "      <td>1.894499</td>\n",
       "    </tr>\n",
       "  </tbody>\n",
       "</table>\n",
       "</div>"
      ],
      "text/plain": [
       "                     HGNC  n_cells     mt  n_cells_by_counts  mean_counts  \\\n",
       "ENSG00000152661      GJA1        8  False                  8     2.938997   \n",
       "ENSG00000140988      RPS2        8  False                  8     2.879912   \n",
       "ENSG00000231500     RPS18        8  False                  8     2.870066   \n",
       "ENSG00000080824  HSP90AA1        8  False                  8     2.866907   \n",
       "ENSG00000265992      ESRG        8  False                  8     2.846929   \n",
       "\n",
       "                 log1p_mean_counts  pct_dropout_by_counts  total_counts  \\\n",
       "ENSG00000152661           1.370926                    0.0     23.511972   \n",
       "ENSG00000140988           1.355812                    0.0     23.039293   \n",
       "ENSG00000231500           1.353271                    0.0     22.960526   \n",
       "ENSG00000080824           1.352455                    0.0     22.935255   \n",
       "ENSG00000265992           1.347275                    0.0     22.775433   \n",
       "\n",
       "                 log1p_total_counts  highly_variable     means  dispersions  \\\n",
       "ENSG00000152661            3.199162             True  2.986594     0.862180   \n",
       "ENSG00000140988            3.179690             True  2.896774    -0.217506   \n",
       "ENSG00000231500            3.176408             True  2.892879     0.251492   \n",
       "ENSG00000080824            3.175353             True  2.906403     0.471016   \n",
       "ENSG00000265992            3.168653             True  2.939378     1.494964   \n",
       "\n",
       "                 dispersions_norm  \n",
       "ENSG00000152661          0.927068  \n",
       "ENSG00000140988          0.516767  \n",
       "ENSG00000231500          0.894089  \n",
       "ENSG00000080824          1.070703  \n",
       "ENSG00000265992          1.894499  "
      ]
     },
     "execution_count": 52,
     "metadata": {},
     "output_type": "execute_result"
    }
   ],
   "source": [
    "rna_adata_ctr.var[rna_adata_ctr.var.highly_variable].sort_values(by='total_counts',ascending=False).head()"
   ]
  },
  {
   "cell_type": "code",
   "execution_count": 53,
   "id": "c748cfa9-8b1f-4f6e-8fe3-b9888c7c54bc",
   "metadata": {},
   "outputs": [
    {
     "data": {
      "text/html": [
       "<div>\n",
       "<style scoped>\n",
       "    .dataframe tbody tr th:only-of-type {\n",
       "        vertical-align: middle;\n",
       "    }\n",
       "\n",
       "    .dataframe tbody tr th {\n",
       "        vertical-align: top;\n",
       "    }\n",
       "\n",
       "    .dataframe thead th {\n",
       "        text-align: right;\n",
       "    }\n",
       "</style>\n",
       "<table border=\"1\" class=\"dataframe\">\n",
       "  <thead>\n",
       "    <tr style=\"text-align: right;\">\n",
       "      <th></th>\n",
       "      <th>HGNC</th>\n",
       "      <th>n_cells</th>\n",
       "      <th>mt</th>\n",
       "      <th>n_cells_by_counts</th>\n",
       "      <th>mean_counts</th>\n",
       "      <th>log1p_mean_counts</th>\n",
       "      <th>pct_dropout_by_counts</th>\n",
       "      <th>total_counts</th>\n",
       "      <th>log1p_total_counts</th>\n",
       "      <th>highly_variable</th>\n",
       "      <th>means</th>\n",
       "      <th>dispersions</th>\n",
       "      <th>dispersions_norm</th>\n",
       "    </tr>\n",
       "  </thead>\n",
       "  <tbody>\n",
       "    <tr>\n",
       "      <th>ENSG00000044574</th>\n",
       "      <td>HSPA5</td>\n",
       "      <td>12</td>\n",
       "      <td>False</td>\n",
       "      <td>12</td>\n",
       "      <td>2.824671</td>\n",
       "      <td>1.341472</td>\n",
       "      <td>0.0</td>\n",
       "      <td>33.896049</td>\n",
       "      <td>3.552374</td>\n",
       "      <td>True</td>\n",
       "      <td>2.845477</td>\n",
       "      <td>-0.214520</td>\n",
       "      <td>1.396384</td>\n",
       "    </tr>\n",
       "    <tr>\n",
       "      <th>ENSG00000179218</th>\n",
       "      <td>CALR</td>\n",
       "      <td>12</td>\n",
       "      <td>False</td>\n",
       "      <td>12</td>\n",
       "      <td>2.750354</td>\n",
       "      <td>1.321850</td>\n",
       "      <td>0.0</td>\n",
       "      <td>33.004250</td>\n",
       "      <td>3.526485</td>\n",
       "      <td>True</td>\n",
       "      <td>2.766760</td>\n",
       "      <td>-0.571884</td>\n",
       "      <td>0.918428</td>\n",
       "    </tr>\n",
       "    <tr>\n",
       "      <th>ENSG00000155380</th>\n",
       "      <td>SLC16A1</td>\n",
       "      <td>12</td>\n",
       "      <td>False</td>\n",
       "      <td>12</td>\n",
       "      <td>2.703302</td>\n",
       "      <td>1.309225</td>\n",
       "      <td>0.0</td>\n",
       "      <td>32.439629</td>\n",
       "      <td>3.509742</td>\n",
       "      <td>True</td>\n",
       "      <td>2.720874</td>\n",
       "      <td>-0.474562</td>\n",
       "      <td>1.003539</td>\n",
       "    </tr>\n",
       "    <tr>\n",
       "      <th>ENSG00000104332</th>\n",
       "      <td>SFRP1</td>\n",
       "      <td>12</td>\n",
       "      <td>False</td>\n",
       "      <td>12</td>\n",
       "      <td>2.699947</td>\n",
       "      <td>1.308318</td>\n",
       "      <td>0.0</td>\n",
       "      <td>32.399364</td>\n",
       "      <td>3.508537</td>\n",
       "      <td>True</td>\n",
       "      <td>2.732139</td>\n",
       "      <td>0.192775</td>\n",
       "      <td>1.587142</td>\n",
       "    </tr>\n",
       "    <tr>\n",
       "      <th>ENSG00000140545</th>\n",
       "      <td>MFGE8</td>\n",
       "      <td>12</td>\n",
       "      <td>False</td>\n",
       "      <td>12</td>\n",
       "      <td>2.678055</td>\n",
       "      <td>1.302384</td>\n",
       "      <td>0.0</td>\n",
       "      <td>32.136662</td>\n",
       "      <td>3.500640</td>\n",
       "      <td>True</td>\n",
       "      <td>2.723558</td>\n",
       "      <td>0.563596</td>\n",
       "      <td>1.911434</td>\n",
       "    </tr>\n",
       "  </tbody>\n",
       "</table>\n",
       "</div>"
      ],
      "text/plain": [
       "                    HGNC  n_cells     mt  n_cells_by_counts  mean_counts  \\\n",
       "ENSG00000044574    HSPA5       12  False                 12     2.824671   \n",
       "ENSG00000179218     CALR       12  False                 12     2.750354   \n",
       "ENSG00000155380  SLC16A1       12  False                 12     2.703302   \n",
       "ENSG00000104332    SFRP1       12  False                 12     2.699947   \n",
       "ENSG00000140545    MFGE8       12  False                 12     2.678055   \n",
       "\n",
       "                 log1p_mean_counts  pct_dropout_by_counts  total_counts  \\\n",
       "ENSG00000044574           1.341472                    0.0     33.896049   \n",
       "ENSG00000179218           1.321850                    0.0     33.004250   \n",
       "ENSG00000155380           1.309225                    0.0     32.439629   \n",
       "ENSG00000104332           1.308318                    0.0     32.399364   \n",
       "ENSG00000140545           1.302384                    0.0     32.136662   \n",
       "\n",
       "                 log1p_total_counts  highly_variable     means  dispersions  \\\n",
       "ENSG00000044574            3.552374             True  2.845477    -0.214520   \n",
       "ENSG00000179218            3.526485             True  2.766760    -0.571884   \n",
       "ENSG00000155380            3.509742             True  2.720874    -0.474562   \n",
       "ENSG00000104332            3.508537             True  2.732139     0.192775   \n",
       "ENSG00000140545            3.500640             True  2.723558     0.563596   \n",
       "\n",
       "                 dispersions_norm  \n",
       "ENSG00000044574          1.396384  \n",
       "ENSG00000179218          0.918428  \n",
       "ENSG00000155380          1.003539  \n",
       "ENSG00000104332          1.587142  \n",
       "ENSG00000140545          1.911434  "
      ]
     },
     "execution_count": 53,
     "metadata": {},
     "output_type": "execute_result"
    }
   ],
   "source": [
    "rna_adata_als.var[rna_adata_als.var.highly_variable].sort_values(by='total_counts',ascending=False).head()"
   ]
  },
  {
   "cell_type": "markdown",
   "id": "635f11c2-bdc7-4537-822c-94644799aee5",
   "metadata": {
    "tags": []
   },
   "source": [
    "### Fold Change in Case/Control Mean Counts"
   ]
  },
  {
   "cell_type": "code",
   "execution_count": 150,
   "id": "d4851a26-8b50-4532-ab2c-e56c388861a9",
   "metadata": {},
   "outputs": [],
   "source": [
    "fold_change = rna_adata_als.var[['HGNC','mean_counts']].set_index('HGNC') / rna_adata_ctr.var[['HGNC','mean_counts']].set_index('HGNC')"
   ]
  },
  {
   "cell_type": "code",
   "execution_count": 151,
   "id": "f8a446b8-e1f2-4b0c-975c-e37858e1a67f",
   "metadata": {},
   "outputs": [
    {
     "data": {
      "text/html": [
       "<div>\n",
       "<style scoped>\n",
       "    .dataframe tbody tr th:only-of-type {\n",
       "        vertical-align: middle;\n",
       "    }\n",
       "\n",
       "    .dataframe tbody tr th {\n",
       "        vertical-align: top;\n",
       "    }\n",
       "\n",
       "    .dataframe thead th {\n",
       "        text-align: right;\n",
       "    }\n",
       "</style>\n",
       "<table border=\"1\" class=\"dataframe\">\n",
       "  <thead>\n",
       "    <tr style=\"text-align: right;\">\n",
       "      <th></th>\n",
       "      <th>mean_counts</th>\n",
       "    </tr>\n",
       "    <tr>\n",
       "      <th>HGNC</th>\n",
       "      <th></th>\n",
       "    </tr>\n",
       "  </thead>\n",
       "  <tbody>\n",
       "    <tr>\n",
       "      <th>PEG3</th>\n",
       "      <td>189.554962</td>\n",
       "    </tr>\n",
       "    <tr>\n",
       "      <th>GYG2P1</th>\n",
       "      <td>25.309408</td>\n",
       "    </tr>\n",
       "    <tr>\n",
       "      <th>POTEC</th>\n",
       "      <td>20.834879</td>\n",
       "    </tr>\n",
       "    <tr>\n",
       "      <th>CXADRP3</th>\n",
       "      <td>13.292338</td>\n",
       "    </tr>\n",
       "    <tr>\n",
       "      <th>ZNF257</th>\n",
       "      <td>11.761340</td>\n",
       "    </tr>\n",
       "    <tr>\n",
       "      <th>...</th>\n",
       "      <td>...</td>\n",
       "    </tr>\n",
       "    <tr>\n",
       "      <th>ZNF90P3</th>\n",
       "      <td>NaN</td>\n",
       "    </tr>\n",
       "    <tr>\n",
       "      <th>ZNF98</th>\n",
       "      <td>NaN</td>\n",
       "    </tr>\n",
       "    <tr>\n",
       "      <th>ZNRF4</th>\n",
       "      <td>NaN</td>\n",
       "    </tr>\n",
       "    <tr>\n",
       "      <th>ZSCAN5DP</th>\n",
       "      <td>NaN</td>\n",
       "    </tr>\n",
       "    <tr>\n",
       "      <th>ZSWIM8-AS1</th>\n",
       "      <td>NaN</td>\n",
       "    </tr>\n",
       "  </tbody>\n",
       "</table>\n",
       "<p>33344 rows × 1 columns</p>\n",
       "</div>"
      ],
      "text/plain": [
       "            mean_counts\n",
       "HGNC                   \n",
       "PEG3         189.554962\n",
       "GYG2P1        25.309408\n",
       "POTEC         20.834879\n",
       "CXADRP3       13.292338\n",
       "ZNF257        11.761340\n",
       "...                 ...\n",
       "ZNF90P3             NaN\n",
       "ZNF98               NaN\n",
       "ZNRF4               NaN\n",
       "ZSCAN5DP            NaN\n",
       "ZSWIM8-AS1          NaN\n",
       "\n",
       "[33344 rows x 1 columns]"
      ]
     },
     "execution_count": 151,
     "metadata": {},
     "output_type": "execute_result"
    }
   ],
   "source": [
    "fold_change.sort_values(by='mean_counts',ascending=False)"
   ]
  },
  {
   "cell_type": "code",
   "execution_count": 170,
   "id": "03b92ec5-2634-41c5-88a7-c5d20a50e874",
   "metadata": {},
   "outputs": [
    {
     "data": {
      "image/png": "[encoded data removed]",
      "text/plain": [
       "<Figure size 576x360 with 1 Axes>"
      ]
     },
     "metadata": {
      "needs_background": "light"
     },
     "output_type": "display_data"
    }
   ],
   "source": [
    "plt.figure(figsize=(8, 5))\n",
    "sns.barplot(data=fold_change.reset_index().sort_values(by='mean_counts',ascending=False).head(30),y='HGNC',x='mean_counts')\n",
    "sns.despine()\n",
    "plt.ylabel('Gene Name')\n",
    "plt.xlabel('Fold Change (ALS/CTR) Transcript Count')\n",
    "# plt.xscale('log',base=2)\n",
    "plt.xscale('log')\n",
    "plt.title('Change in Expression in ALS iPSCs over Control')\n",
    "plt.savefig(f\"{FIG_DIR}/als_ctr_fold_change_rna.png\",bbox_inches='tight')"
   ]
  },
  {
   "cell_type": "markdown",
   "id": "03af124c-b5dc-4744-b0aa-1c26886b825f",
   "metadata": {
    "jp-MarkdownHeadingCollapsed": true,
    "tags": []
   },
   "source": [
    "### Highly Expressed (- mitochondrial)"
   ]
  },
  {
   "cell_type": "code",
   "execution_count": 44,
   "id": "ddc45dd1-84be-4fd2-b6b6-a88823aa0471",
   "metadata": {},
   "outputs": [
    {
     "name": "stderr",
     "output_type": "stream",
     "text": [
      "/afs/csail.mit.edu/u/s/samsl/.local/lib/python3.7/site-packages/anndata/_core/anndata.py:1094: FutureWarning: is_categorical is deprecated and will be removed in a future version.  Use is_categorical_dtype instead\n",
      "  if not is_categorical(df_full[k]):\n",
      "/afs/csail.mit.edu/u/s/samsl/Work/anaconda3/envs/dsplat/lib/python3.7/site-packages/pandas/core/arrays/categorical.py:2630: FutureWarning: The `inplace` parameter in pandas.Categorical.remove_unused_categories is deprecated and will be removed in a future version.\n",
      "  res = method(*args, **kwargs)\n"
     ]
    },
    {
     "data": {
      "image/png": "[encoded data removed]",
      "text/plain": [
       "<Figure size 360x396 with 1 Axes>"
      ]
     },
     "metadata": {
      "needs_background": "light"
     },
     "output_type": "display_data"
    }
   ],
   "source": [
    "sc.pl.highest_expr_genes(rna_adata[:,~rna_adata.var.mt], n_top=20, )"
   ]
  },
  {
   "cell_type": "code",
   "execution_count": 45,
   "id": "4a5bdb4a-293f-46c7-a49f-0699ac44066b",
   "metadata": {},
   "outputs": [
    {
     "name": "stderr",
     "output_type": "stream",
     "text": [
      "/afs/csail.mit.edu/u/s/samsl/.local/lib/python3.7/site-packages/anndata/_core/anndata.py:1094: FutureWarning: is_categorical is deprecated and will be removed in a future version.  Use is_categorical_dtype instead\n",
      "  if not is_categorical(df_full[k]):\n",
      "/afs/csail.mit.edu/u/s/samsl/Work/anaconda3/envs/dsplat/lib/python3.7/site-packages/pandas/core/arrays/categorical.py:2630: FutureWarning: The `inplace` parameter in pandas.Categorical.remove_unused_categories is deprecated and will be removed in a future version.\n",
      "  res = method(*args, **kwargs)\n"
     ]
    },
    {
     "data": {
      "text/html": [
       "<div>\n",
       "<style scoped>\n",
       "    .dataframe tbody tr th:only-of-type {\n",
       "        vertical-align: middle;\n",
       "    }\n",
       "\n",
       "    .dataframe tbody tr th {\n",
       "        vertical-align: top;\n",
       "    }\n",
       "\n",
       "    .dataframe thead th {\n",
       "        text-align: right;\n",
       "    }\n",
       "</style>\n",
       "<table border=\"1\" class=\"dataframe\">\n",
       "  <thead>\n",
       "    <tr style=\"text-align: right;\">\n",
       "      <th></th>\n",
       "      <th>HGNC</th>\n",
       "      <th>n_cells</th>\n",
       "      <th>mt</th>\n",
       "      <th>n_cells_by_counts</th>\n",
       "      <th>mean_counts</th>\n",
       "      <th>log1p_mean_counts</th>\n",
       "      <th>pct_dropout_by_counts</th>\n",
       "      <th>total_counts</th>\n",
       "      <th>log1p_total_counts</th>\n",
       "      <th>highly_variable</th>\n",
       "      <th>means</th>\n",
       "      <th>dispersions</th>\n",
       "      <th>dispersions_norm</th>\n",
       "    </tr>\n",
       "  </thead>\n",
       "  <tbody>\n",
       "    <tr>\n",
       "      <th>ENSG00000156508</th>\n",
       "      <td>EEF1A1</td>\n",
       "      <td>29</td>\n",
       "      <td>False</td>\n",
       "      <td>29</td>\n",
       "      <td>4.422039</td>\n",
       "      <td>1.690472</td>\n",
       "      <td>0.000000</td>\n",
       "      <td>128.239120</td>\n",
       "      <td>4.861664</td>\n",
       "      <td>False</td>\n",
       "      <td>4.440307</td>\n",
       "      <td>1.081052</td>\n",
       "      <td>-0.707107</td>\n",
       "    </tr>\n",
       "    <tr>\n",
       "      <th>ENSG00000075624</th>\n",
       "      <td>ACTB</td>\n",
       "      <td>29</td>\n",
       "      <td>False</td>\n",
       "      <td>29</td>\n",
       "      <td>3.423992</td>\n",
       "      <td>1.487042</td>\n",
       "      <td>0.000000</td>\n",
       "      <td>99.295761</td>\n",
       "      <td>4.608123</td>\n",
       "      <td>False</td>\n",
       "      <td>3.446537</td>\n",
       "      <td>0.474388</td>\n",
       "      <td>0.169538</td>\n",
       "    </tr>\n",
       "    <tr>\n",
       "      <th>ENSG00000096384</th>\n",
       "      <td>HSP90AB1</td>\n",
       "      <td>29</td>\n",
       "      <td>False</td>\n",
       "      <td>29</td>\n",
       "      <td>3.400498</td>\n",
       "      <td>1.481718</td>\n",
       "      <td>0.000000</td>\n",
       "      <td>98.614456</td>\n",
       "      <td>4.601307</td>\n",
       "      <td>False</td>\n",
       "      <td>3.406837</td>\n",
       "      <td>-0.909180</td>\n",
       "      <td>-1.198873</td>\n",
       "    </tr>\n",
       "    <tr>\n",
       "      <th>ENSG00000135486</th>\n",
       "      <td>HNRNPA1</td>\n",
       "      <td>29</td>\n",
       "      <td>False</td>\n",
       "      <td>29</td>\n",
       "      <td>3.342783</td>\n",
       "      <td>1.468516</td>\n",
       "      <td>0.000000</td>\n",
       "      <td>96.940720</td>\n",
       "      <td>4.584363</td>\n",
       "      <td>False</td>\n",
       "      <td>3.351440</td>\n",
       "      <td>-0.624069</td>\n",
       "      <td>-0.916885</td>\n",
       "    </tr>\n",
       "    <tr>\n",
       "      <th>ENSG00000074800</th>\n",
       "      <td>ENO1</td>\n",
       "      <td>29</td>\n",
       "      <td>False</td>\n",
       "      <td>29</td>\n",
       "      <td>3.269775</td>\n",
       "      <td>1.451561</td>\n",
       "      <td>0.000000</td>\n",
       "      <td>94.823463</td>\n",
       "      <td>4.562508</td>\n",
       "      <td>False</td>\n",
       "      <td>3.296112</td>\n",
       "      <td>0.504974</td>\n",
       "      <td>0.199789</td>\n",
       "    </tr>\n",
       "    <tr>\n",
       "      <th>...</th>\n",
       "      <td>...</td>\n",
       "      <td>...</td>\n",
       "      <td>...</td>\n",
       "      <td>...</td>\n",
       "      <td>...</td>\n",
       "      <td>...</td>\n",
       "      <td>...</td>\n",
       "      <td>...</td>\n",
       "      <td>...</td>\n",
       "      <td>...</td>\n",
       "      <td>...</td>\n",
       "      <td>...</td>\n",
       "      <td>...</td>\n",
       "    </tr>\n",
       "    <tr>\n",
       "      <th>ENSG00000231983</th>\n",
       "      <td>LINC00415</td>\n",
       "      <td>3</td>\n",
       "      <td>False</td>\n",
       "      <td>3</td>\n",
       "      <td>0.000036</td>\n",
       "      <td>0.000036</td>\n",
       "      <td>89.655172</td>\n",
       "      <td>0.001034</td>\n",
       "      <td>0.001033</td>\n",
       "      <td>False</td>\n",
       "      <td>0.000036</td>\n",
       "      <td>-8.045547</td>\n",
       "      <td>-0.991768</td>\n",
       "    </tr>\n",
       "    <tr>\n",
       "      <th>ENSG00000211780</th>\n",
       "      <td>TRAV6</td>\n",
       "      <td>3</td>\n",
       "      <td>False</td>\n",
       "      <td>3</td>\n",
       "      <td>0.000035</td>\n",
       "      <td>0.000035</td>\n",
       "      <td>89.655172</td>\n",
       "      <td>0.001027</td>\n",
       "      <td>0.001026</td>\n",
       "      <td>False</td>\n",
       "      <td>0.000035</td>\n",
       "      <td>-8.052823</td>\n",
       "      <td>-0.997443</td>\n",
       "    </tr>\n",
       "    <tr>\n",
       "      <th>ENSG00000260487</th>\n",
       "      <td></td>\n",
       "      <td>3</td>\n",
       "      <td>False</td>\n",
       "      <td>3</td>\n",
       "      <td>0.000035</td>\n",
       "      <td>0.000035</td>\n",
       "      <td>89.655172</td>\n",
       "      <td>0.001027</td>\n",
       "      <td>0.001026</td>\n",
       "      <td>False</td>\n",
       "      <td>0.000035</td>\n",
       "      <td>-8.052955</td>\n",
       "      <td>-0.997546</td>\n",
       "    </tr>\n",
       "    <tr>\n",
       "      <th>ENSG00000254472</th>\n",
       "      <td>OR4A49P</td>\n",
       "      <td>3</td>\n",
       "      <td>False</td>\n",
       "      <td>3</td>\n",
       "      <td>0.000035</td>\n",
       "      <td>0.000035</td>\n",
       "      <td>89.655172</td>\n",
       "      <td>0.001027</td>\n",
       "      <td>0.001026</td>\n",
       "      <td>False</td>\n",
       "      <td>0.000035</td>\n",
       "      <td>-8.052955</td>\n",
       "      <td>-0.997546</td>\n",
       "    </tr>\n",
       "    <tr>\n",
       "      <th>ENSG00000249203</th>\n",
       "      <td>LINC02224</td>\n",
       "      <td>3</td>\n",
       "      <td>False</td>\n",
       "      <td>3</td>\n",
       "      <td>0.000035</td>\n",
       "      <td>0.000035</td>\n",
       "      <td>89.655172</td>\n",
       "      <td>0.001023</td>\n",
       "      <td>0.001023</td>\n",
       "      <td>False</td>\n",
       "      <td>0.000035</td>\n",
       "      <td>-8.056798</td>\n",
       "      <td>-1.000544</td>\n",
       "    </tr>\n",
       "  </tbody>\n",
       "</table>\n",
       "<p>37009 rows × 13 columns</p>\n",
       "</div>"
      ],
      "text/plain": [
       "                      HGNC  n_cells     mt  n_cells_by_counts  mean_counts  \\\n",
       "ENSG00000156508     EEF1A1       29  False                 29     4.422039   \n",
       "ENSG00000075624       ACTB       29  False                 29     3.423992   \n",
       "ENSG00000096384   HSP90AB1       29  False                 29     3.400498   \n",
       "ENSG00000135486    HNRNPA1       29  False                 29     3.342783   \n",
       "ENSG00000074800       ENO1       29  False                 29     3.269775   \n",
       "...                    ...      ...    ...                ...          ...   \n",
       "ENSG00000231983  LINC00415        3  False                  3     0.000036   \n",
       "ENSG00000211780      TRAV6        3  False                  3     0.000035   \n",
       "ENSG00000260487                   3  False                  3     0.000035   \n",
       "ENSG00000254472    OR4A49P        3  False                  3     0.000035   \n",
       "ENSG00000249203  LINC02224        3  False                  3     0.000035   \n",
       "\n",
       "                 log1p_mean_counts  pct_dropout_by_counts  total_counts  \\\n",
       "ENSG00000156508           1.690472               0.000000    128.239120   \n",
       "ENSG00000075624           1.487042               0.000000     99.295761   \n",
       "ENSG00000096384           1.481718               0.000000     98.614456   \n",
       "ENSG00000135486           1.468516               0.000000     96.940720   \n",
       "ENSG00000074800           1.451561               0.000000     94.823463   \n",
       "...                            ...                    ...           ...   \n",
       "ENSG00000231983           0.000036              89.655172      0.001034   \n",
       "ENSG00000211780           0.000035              89.655172      0.001027   \n",
       "ENSG00000260487           0.000035              89.655172      0.001027   \n",
       "ENSG00000254472           0.000035              89.655172      0.001027   \n",
       "ENSG00000249203           0.000035              89.655172      0.001023   \n",
       "\n",
       "                 log1p_total_counts  highly_variable     means  dispersions  \\\n",
       "ENSG00000156508            4.861664            False  4.440307     1.081052   \n",
       "ENSG00000075624            4.608123            False  3.446537     0.474388   \n",
       "ENSG00000096384            4.601307            False  3.406837    -0.909180   \n",
       "ENSG00000135486            4.584363            False  3.351440    -0.624069   \n",
       "ENSG00000074800            4.562508            False  3.296112     0.504974   \n",
       "...                             ...              ...       ...          ...   \n",
       "ENSG00000231983            0.001033            False  0.000036    -8.045547   \n",
       "ENSG00000211780            0.001026            False  0.000035    -8.052823   \n",
       "ENSG00000260487            0.001026            False  0.000035    -8.052955   \n",
       "ENSG00000254472            0.001026            False  0.000035    -8.052955   \n",
       "ENSG00000249203            0.001023            False  0.000035    -8.056798   \n",
       "\n",
       "                 dispersions_norm  \n",
       "ENSG00000156508         -0.707107  \n",
       "ENSG00000075624          0.169538  \n",
       "ENSG00000096384         -1.198873  \n",
       "ENSG00000135486         -0.916885  \n",
       "ENSG00000074800          0.199789  \n",
       "...                           ...  \n",
       "ENSG00000231983         -0.991768  \n",
       "ENSG00000211780         -0.997443  \n",
       "ENSG00000260487         -0.997546  \n",
       "ENSG00000254472         -0.997546  \n",
       "ENSG00000249203         -1.000544  \n",
       "\n",
       "[37009 rows x 13 columns]"
      ]
     },
     "execution_count": 45,
     "metadata": {},
     "output_type": "execute_result"
    }
   ],
   "source": [
    "rna_adata[:,~rna_adata.var.mt].var.sort_values(by='total_counts',ascending=False)"
   ]
  },
  {
   "cell_type": "markdown",
   "id": "12ebddbc-d077-4a84-a45c-7e43cba79ba9",
   "metadata": {},
   "source": [
    "## Write H5"
   ]
  },
  {
   "cell_type": "code",
   "execution_count": 63,
   "id": "d75f8979-82b2-472a-b58a-c18456d61ae8",
   "metadata": {},
   "outputs": [],
   "source": [
    "control_save_path = f\"{BASE_DIR}/nbdata/iPSC_rna_ctr_preprocessed.h5ad\"\n",
    "als_save_path = f\"{BASE_DIR}/nbdata/iPSC_rna_als_preprocessed.h5ad\""
   ]
  },
  {
   "cell_type": "code",
   "execution_count": 64,
   "id": "33948b53-1df5-4f3f-a56d-150546f35a14",
   "metadata": {},
   "outputs": [
    {
     "name": "stderr",
     "output_type": "stream",
     "text": [
      "/afs/csail.mit.edu/u/s/samsl/.local/lib/python3.7/site-packages/anndata/_core/anndata.py:1192: FutureWarning: is_categorical is deprecated and will be removed in a future version.  Use is_categorical_dtype instead\n",
      "  if is_string_dtype(df[key]) and not is_categorical(df[key])\n"
     ]
    }
   ],
   "source": [
    "rna_adata_als.write(als_save_path)\n",
    "rna_adata_ctr.write(control_save_path)"
   ]
  },
  {
   "cell_type": "markdown",
   "id": "25e2730e-8e51-4db4-b709-e92b861fa934",
   "metadata": {},
   "source": [
    "# Write Transcription Factors as txt"
   ]
  },
  {
   "cell_type": "code",
   "execution_count": 58,
   "id": "02810808-3cb8-43c4-8bd4-af04a81575ae",
   "metadata": {},
   "outputs": [],
   "source": [
    "tf_list = pd.read_csv('../data/HumanTFs.csv',index_col=1)"
   ]
  },
  {
   "cell_type": "code",
   "execution_count": 61,
   "id": "f8c2015b-e9c0-48a5-b04b-e5b75ab7b0b8",
   "metadata": {},
   "outputs": [],
   "source": [
    "common_tfs = set(rna_adata.var.index).intersection(set(tf_list.index))"
   ]
  },
  {
   "cell_type": "code",
   "execution_count": 62,
   "id": "76635495-cc93-4687-adb1-17e74d713e30",
   "metadata": {},
   "outputs": [],
   "source": [
    "with open('../nbdata/human_tflist.txt','w+') as f:\n",
    "    for tf in list(common_tfs):\n",
    "        f.write(f\"{tf}\\n\")"
   ]
  },
  {
   "cell_type": "code",
   "execution_count": null,
   "id": "4fbdf82a-d81a-4acb-b23f-cbe771a5db62",
   "metadata": {},
   "outputs": [],
   "source": []
  }
 ],
 "metadata": {
  "kernelspec": {
   "display_name": "dsplat",
   "language": "python",
   "name": "dsplat"
  },
  "language_info": {
   "codemirror_mode": {
    "name": "ipython",
    "version": 3
   },
   "file_extension": ".py",
   "mimetype": "text/x-python",
   "name": "python",
   "nbconvert_exporter": "python",
   "pygments_lexer": "ipython3",
   "version": "3.7.10"
  }
 },
 "nbformat": 4,
 "nbformat_minor": 5
}
