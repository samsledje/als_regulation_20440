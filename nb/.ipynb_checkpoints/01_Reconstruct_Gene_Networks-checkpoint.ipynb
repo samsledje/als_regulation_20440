{
 "cells": [
  {
   "cell_type": "code",
   "execution_count": 1,
   "metadata": {},
   "outputs": [
    {
     "data": {
      "text/html": [
       "'R version 4.1.0 (2021-05-18)'"
      ],
      "text/latex": [
       "'R version 4.1.0 (2021-05-18)'"
      ],
      "text/markdown": [
       "'R version 4.1.0 (2021-05-18)'"
      ],
      "text/plain": [
       "[1] \"R version 4.1.0 (2021-05-18)\""
      ]
     },
     "metadata": {},
     "output_type": "display_data"
    }
   ],
   "source": [
    "R.Version()$version.string"
   ]
  },
  {
   "cell_type": "code",
   "execution_count": 2,
   "metadata": {},
   "outputs": [
    {
     "name": "stderr",
     "output_type": "stream",
     "text": [
      "Attaching SeuratObject\n",
      "\n",
      "Registered S3 method overwritten by 'SeuratDisk':\n",
      "  method            from  \n",
      "  as.sparse.H5Group Seurat\n",
      "\n"
     ]
    }
   ],
   "source": [
    "library(\"GENIE3\")\n",
    "library(Seurat)\n",
    "library(SeuratDisk)"
   ]
  },
  {
   "cell_type": "markdown",
   "metadata": {},
   "source": [
    "## Convert H5 Files"
   ]
  },
  {
   "cell_type": "code",
   "execution_count": 5,
   "metadata": {},
   "outputs": [
    {
     "name": "stderr",
     "output_type": "stream",
     "text": [
      "Warning message:\n",
      "“Unknown file type: h5ad”\n",
      "Warning message:\n",
      "“'assay' not set, setting to 'RNA'”\n",
      "Creating h5Seurat file for version 3.1.5.9900\n",
      "\n",
      "Adding X as scale.data\n",
      "\n",
      "Adding X as data\n",
      "\n",
      "Adding X as counts\n",
      "\n",
      "Adding meta.features from var\n",
      "\n",
      "Warning message:\n",
      "“Unknown file type: h5ad”\n",
      "Warning message:\n",
      "“'assay' not set, setting to 'RNA'”\n",
      "Creating h5Seurat file for version 3.1.5.9900\n",
      "\n",
      "Adding X as scale.data\n",
      "\n",
      "Adding X as data\n",
      "\n",
      "Adding X as counts\n",
      "\n",
      "Adding meta.features from var\n",
      "\n"
     ]
    }
   ],
   "source": [
    "Convert(\"../nbdata/iPSC_rna_ctr_preprocessed.h5ad\", dest = \"h5seurat\", overwrite = TRUE)\n",
    "Convert(\"../nbdata/iPSC_rna_als_preprocessed.h5ad\", dest = \"h5seurat\", overwrite = TRUE)"
   ]
  },
  {
   "cell_type": "markdown",
   "metadata": {},
   "source": [
    "## Load Data"
   ]
  },
  {
   "cell_type": "code",
   "execution_count": 6,
   "metadata": {
    "scrolled": true,
    "tags": []
   },
   "outputs": [
    {
     "name": "stderr",
     "output_type": "stream",
     "text": [
      "Validating h5Seurat file\n",
      "\n",
      "Initializing RNA with data\n",
      "\n",
      "Adding counts for RNA\n",
      "\n",
      "Adding scale.data for RNA\n",
      "\n",
      "Adding feature-level metadata for RNA\n",
      "\n",
      "Adding command information\n",
      "\n",
      "Adding cell-level metadata\n",
      "\n",
      "Adding miscellaneous information\n",
      "\n",
      "Adding tool-specific results\n",
      "\n",
      "Validating h5Seurat file\n",
      "\n",
      "Initializing RNA with data\n",
      "\n",
      "Adding counts for RNA\n",
      "\n",
      "Adding scale.data for RNA\n",
      "\n",
      "Adding feature-level metadata for RNA\n",
      "\n",
      "Adding command information\n",
      "\n",
      "Adding cell-level metadata\n",
      "\n",
      "Adding miscellaneous information\n",
      "\n",
      "Adding tool-specific results\n",
      "\n"
     ]
    }
   ],
   "source": [
    "rnaCtr <- LoadH5Seurat(\"../nbdata/iPSC_rna_ctr_preprocessed.h5seurat\")\n",
    "rnaAls <- LoadH5Seurat(\"../nbdata/iPSC_rna_als_preprocessed.h5seurat\")"
   ]
  },
  {
   "cell_type": "code",
   "execution_count": 7,
   "metadata": {},
   "outputs": [],
   "source": [
    "rnaCtrAssay <- GetAssayData(rnaCtr)\n",
    "rnaAlsAssay <- GetAssayData(rnaAls)"
   ]
  },
  {
   "cell_type": "code",
   "execution_count": 10,
   "metadata": {},
   "outputs": [
    {
     "data": {
      "text/html": [
       "<style>\n",
       ".list-inline {list-style: none; margin:0; padding: 0}\n",
       ".list-inline>li {display: inline-block}\n",
       ".list-inline>li:not(:last-child)::after {content: \"\\00b7\"; padding: 0 .5ex}\n",
       "</style>\n",
       "<ol class=list-inline><li>29420</li><li>8</li></ol>\n"
      ],
      "text/latex": [
       "\\begin{enumerate*}\n",
       "\\item 29420\n",
       "\\item 8\n",
       "\\end{enumerate*}\n"
      ],
      "text/markdown": [
       "1. 29420\n",
       "2. 8\n",
       "\n",
       "\n"
      ],
      "text/plain": [
       "[1] 29420     8"
      ]
     },
     "metadata": {},
     "output_type": "display_data"
    },
    {
     "data": {
      "text/html": [
       "<style>\n",
       ".list-inline {list-style: none; margin:0; padding: 0}\n",
       ".list-inline>li {display: inline-block}\n",
       ".list-inline>li:not(:last-child)::after {content: \"\\00b7\"; padding: 0 .5ex}\n",
       "</style>\n",
       "<ol class=list-inline><li>32718</li><li>12</li></ol>\n"
      ],
      "text/latex": [
       "\\begin{enumerate*}\n",
       "\\item 32718\n",
       "\\item 12\n",
       "\\end{enumerate*}\n"
      ],
      "text/markdown": [
       "1. 32718\n",
       "2. 12\n",
       "\n",
       "\n"
      ],
      "text/plain": [
       "[1] 32718    12"
      ]
     },
     "metadata": {},
     "output_type": "display_data"
    }
   ],
   "source": [
    "dim(rnaCtrAssay)\n",
    "dim(rnaAlsAssay)"
   ]
  },
  {
   "cell_type": "code",
   "execution_count": null,
   "metadata": {},
   "outputs": [],
   "source": [
    "set.seed(123)\n",
    "weightMatrix <- GENIE3(assayData)"
   ]
  },
  {
   "cell_type": "code",
   "execution_count": null,
   "metadata": {},
   "outputs": [],
   "source": [
    "dim(weightMatrix)"
   ]
  },
  {
   "cell_type": "code",
   "execution_count": null,
   "metadata": {},
   "outputs": [],
   "source": [
    "?set.seed"
   ]
  },
  {
   "cell_type": "code",
   "execution_count": null,
   "metadata": {},
   "outputs": [],
   "source": [
    "write.table(weightMatrix, file = \"../nbdata/GENIE_weight_matrix_all.csv\", sep=\",\")"
   ]
  },
  {
   "cell_type": "code",
   "execution_count": null,
   "metadata": {},
   "outputs": [],
   "source": []
  }
 ],
 "metadata": {
  "kernelspec": {
   "display_name": "R",
   "language": "R",
   "name": "ir"
  },
  "language_info": {
   "codemirror_mode": "r",
   "file_extension": ".r",
   "mimetype": "text/x-r-source",
   "name": "R",
   "pygments_lexer": "r",
   "version": "4.1.0"
  }
 },
 "nbformat": 4,
 "nbformat_minor": 4
}
