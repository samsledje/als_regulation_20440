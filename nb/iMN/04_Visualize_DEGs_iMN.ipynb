{
 "cells": [
  {
   "cell_type": "code",
   "execution_count": 1,
   "id": "2a1f7f27-6f32-4474-83dc-821778c5d5b1",
   "metadata": {},
   "outputs": [],
   "source": [
    "import sys"
   ]
  },
  {
   "cell_type": "code",
   "execution_count": 2,
   "id": "d8b40ba9-8a90-4adf-b10b-ef0ed1c41ed9",
   "metadata": {},
   "outputs": [],
   "source": [
    "BASE_DIR = \"../..\"\n",
    "DATA_DIR = f\"{BASE_DIR}/data\"\n",
    "NBDATA_DIR = f\"{BASE_DIR}/nbdata\"\n",
    "FIG_DIR = f\"{BASE_DIR}/figs\""
   ]
  },
  {
   "cell_type": "code",
   "execution_count": 3,
   "id": "a1ab79b8-3499-45cb-a67e-2d459f2d40ab",
   "metadata": {},
   "outputs": [],
   "source": [
    "sys.path.append(BASE_DIR)"
   ]
  },
  {
   "cell_type": "code",
   "execution_count": 4,
   "id": "c7bb72fc-6abe-4240-9f2f-6e7178245e09",
   "metadata": {},
   "outputs": [],
   "source": [
    "import numpy as np\n",
    "import pandas as pd\n",
    "import matplotlib.pyplot as plt\n",
    "import seaborn as sns\n",
    "import networkx as nx"
   ]
  },
  {
   "cell_type": "code",
   "execution_count": 5,
   "id": "cb6353fe-f3b3-4c7d-8896-fc9f2e139aa3",
   "metadata": {},
   "outputs": [],
   "source": [
    "import anndata as ad\n",
    "import scanpy as sc"
   ]
  },
  {
   "cell_type": "markdown",
   "id": "5144f8fc-d60f-4de7-b77c-79487e711c70",
   "metadata": {},
   "source": [
    "## Import DEG Analysis"
   ]
  },
  {
   "cell_type": "code",
   "execution_count": 6,
   "id": "df3fc693-96fc-4494-bd2b-86729b7a74ca",
   "metadata": {},
   "outputs": [],
   "source": [
    "deg_raw = pd.read_csv(f\"{NBDATA_DIR}/iMN_deseq2_condition.tsv\",sep=\"\\t\")"
   ]
  },
  {
   "cell_type": "code",
   "execution_count": 8,
   "id": "b8a43a31-2738-426a-bd9f-5c7eacc88e56",
   "metadata": {},
   "outputs": [],
   "source": [
    "name_map = pd.read_csv(f\"{NBDATA_DIR}/iPSC_ENSG_HGNC_mapping.tsv\",sep=\"\\t\").set_index('ENSG')"
   ]
  },
  {
   "cell_type": "code",
   "execution_count": 9,
   "id": "d9419493-7415-4702-9b1f-fe6ab8202b4b",
   "metadata": {},
   "outputs": [],
   "source": [
    "deg_df = pd.merge(deg_raw,name_map,left_index=True,right_index=True,how='left')\\\n",
    "    .reset_index()\\\n",
    "    .set_index('HGNC')"
   ]
  },
  {
   "cell_type": "code",
   "execution_count": 10,
   "id": "dac17008-079b-4963-9ab3-8c0d5716158f",
   "metadata": {},
   "outputs": [],
   "source": [
    "deg_df['-log10(p adj)'] = -np.log10(deg_df['padj'])"
   ]
  },
  {
   "cell_type": "code",
   "execution_count": 11,
   "id": "7d9187d7-b998-4db5-b4b0-56b42f54d2c0",
   "metadata": {},
   "outputs": [],
   "source": [
    "deg_df = deg_df.rename(\n",
    "    {\n",
    "        'index':'ESNG',\n",
    "        'log2FoldChange':'log2(fold change)'\n",
    "    }\n",
    "    ,axis=1)"
   ]
  },
  {
   "cell_type": "code",
   "execution_count": 12,
   "id": "78e54442-b421-45c5-9ad7-2f398edfa87a",
   "metadata": {},
   "outputs": [
    {
     "data": {
      "text/html": [
       "<div>\n",
       "<style scoped>\n",
       "    .dataframe tbody tr th:only-of-type {\n",
       "        vertical-align: middle;\n",
       "    }\n",
       "\n",
       "    .dataframe tbody tr th {\n",
       "        vertical-align: top;\n",
       "    }\n",
       "\n",
       "    .dataframe thead th {\n",
       "        text-align: right;\n",
       "    }\n",
       "</style>\n",
       "<table border=\"1\" class=\"dataframe\">\n",
       "  <thead>\n",
       "    <tr style=\"text-align: right;\">\n",
       "      <th></th>\n",
       "      <th>ESNG</th>\n",
       "      <th>baseMean</th>\n",
       "      <th>log2(fold change)</th>\n",
       "      <th>lfcSE</th>\n",
       "      <th>stat</th>\n",
       "      <th>pvalue</th>\n",
       "      <th>padj</th>\n",
       "      <th>-log10(p adj)</th>\n",
       "    </tr>\n",
       "    <tr>\n",
       "      <th>HGNC</th>\n",
       "      <th></th>\n",
       "      <th></th>\n",
       "      <th></th>\n",
       "      <th></th>\n",
       "      <th></th>\n",
       "      <th></th>\n",
       "      <th></th>\n",
       "      <th></th>\n",
       "    </tr>\n",
       "  </thead>\n",
       "  <tbody>\n",
       "    <tr>\n",
       "      <th>NaN</th>\n",
       "      <td>ERCC-00136</td>\n",
       "      <td>4449.106698</td>\n",
       "      <td>-1.967622</td>\n",
       "      <td>0.146315</td>\n",
       "      <td>-13.447824</td>\n",
       "      <td>3.170675e-41</td>\n",
       "      <td>8.644211e-37</td>\n",
       "      <td>36.063275</td>\n",
       "    </tr>\n",
       "    <tr>\n",
       "      <th>NaN</th>\n",
       "      <td>ERCC-00131</td>\n",
       "      <td>257.899285</td>\n",
       "      <td>-2.011530</td>\n",
       "      <td>0.153220</td>\n",
       "      <td>-13.128352</td>\n",
       "      <td>2.265343e-39</td>\n",
       "      <td>3.088003e-35</td>\n",
       "      <td>34.510322</td>\n",
       "    </tr>\n",
       "    <tr>\n",
       "      <th>ENSG00000234710</th>\n",
       "      <td>ENSG00000234710</td>\n",
       "      <td>11.927402</td>\n",
       "      <td>-21.298318</td>\n",
       "      <td>1.661549</td>\n",
       "      <td>-12.818352</td>\n",
       "      <td>1.294219e-37</td>\n",
       "      <td>1.176143e-33</td>\n",
       "      <td>32.929540</td>\n",
       "    </tr>\n",
       "    <tr>\n",
       "      <th>NaN</th>\n",
       "      <td>ERCC-00130</td>\n",
       "      <td>74444.188601</td>\n",
       "      <td>-1.971408</td>\n",
       "      <td>0.157895</td>\n",
       "      <td>-12.485594</td>\n",
       "      <td>8.947278e-36</td>\n",
       "      <td>6.098241e-32</td>\n",
       "      <td>31.214795</td>\n",
       "    </tr>\n",
       "    <tr>\n",
       "      <th>NaN</th>\n",
       "      <td>ERCC-00095</td>\n",
       "      <td>294.781535</td>\n",
       "      <td>-2.101404</td>\n",
       "      <td>0.170735</td>\n",
       "      <td>-12.307990</td>\n",
       "      <td>8.204139e-35</td>\n",
       "      <td>4.473389e-31</td>\n",
       "      <td>30.349363</td>\n",
       "    </tr>\n",
       "    <tr>\n",
       "      <th>...</th>\n",
       "      <td>...</td>\n",
       "      <td>...</td>\n",
       "      <td>...</td>\n",
       "      <td>...</td>\n",
       "      <td>...</td>\n",
       "      <td>...</td>\n",
       "      <td>...</td>\n",
       "      <td>...</td>\n",
       "    </tr>\n",
       "    <tr>\n",
       "      <th>ENSG00000250253</th>\n",
       "      <td>ENSG00000250253</td>\n",
       "      <td>0.461977</td>\n",
       "      <td>0.000000</td>\n",
       "      <td>3.654444</td>\n",
       "      <td>0.000000</td>\n",
       "      <td>1.000000e+00</td>\n",
       "      <td>NaN</td>\n",
       "      <td>NaN</td>\n",
       "    </tr>\n",
       "    <tr>\n",
       "      <th>ENSG00000251918</th>\n",
       "      <td>ENSG00000251918</td>\n",
       "      <td>0.415901</td>\n",
       "      <td>0.000000</td>\n",
       "      <td>3.654444</td>\n",
       "      <td>0.000000</td>\n",
       "      <td>1.000000e+00</td>\n",
       "      <td>NaN</td>\n",
       "      <td>NaN</td>\n",
       "    </tr>\n",
       "    <tr>\n",
       "      <th>MIR487B</th>\n",
       "      <td>ENSG00000207754</td>\n",
       "      <td>0.622526</td>\n",
       "      <td>0.000000</td>\n",
       "      <td>3.654444</td>\n",
       "      <td>0.000000</td>\n",
       "      <td>1.000000e+00</td>\n",
       "      <td>NaN</td>\n",
       "      <td>NaN</td>\n",
       "    </tr>\n",
       "    <tr>\n",
       "      <th>IGHG4</th>\n",
       "      <td>ENSG00000211892</td>\n",
       "      <td>0.447673</td>\n",
       "      <td>0.000000</td>\n",
       "      <td>2.417313</td>\n",
       "      <td>0.000000</td>\n",
       "      <td>1.000000e+00</td>\n",
       "      <td>NaN</td>\n",
       "      <td>NaN</td>\n",
       "    </tr>\n",
       "    <tr>\n",
       "      <th>ENSG00000231324</th>\n",
       "      <td>ENSG00000231324</td>\n",
       "      <td>0.557726</td>\n",
       "      <td>0.000000</td>\n",
       "      <td>3.654444</td>\n",
       "      <td>0.000000</td>\n",
       "      <td>1.000000e+00</td>\n",
       "      <td>NaN</td>\n",
       "      <td>NaN</td>\n",
       "    </tr>\n",
       "  </tbody>\n",
       "</table>\n",
       "<p>30852 rows × 8 columns</p>\n",
       "</div>"
      ],
      "text/plain": [
       "                            ESNG      baseMean  log2(fold change)     lfcSE  \\\n",
       "HGNC                                                                          \n",
       "NaN                   ERCC-00136   4449.106698          -1.967622  0.146315   \n",
       "NaN                   ERCC-00131    257.899285          -2.011530  0.153220   \n",
       "ENSG00000234710  ENSG00000234710     11.927402         -21.298318  1.661549   \n",
       "NaN                   ERCC-00130  74444.188601          -1.971408  0.157895   \n",
       "NaN                   ERCC-00095    294.781535          -2.101404  0.170735   \n",
       "...                          ...           ...                ...       ...   \n",
       "ENSG00000250253  ENSG00000250253      0.461977           0.000000  3.654444   \n",
       "ENSG00000251918  ENSG00000251918      0.415901           0.000000  3.654444   \n",
       "MIR487B          ENSG00000207754      0.622526           0.000000  3.654444   \n",
       "IGHG4            ENSG00000211892      0.447673           0.000000  2.417313   \n",
       "ENSG00000231324  ENSG00000231324      0.557726           0.000000  3.654444   \n",
       "\n",
       "                      stat        pvalue          padj  -log10(p adj)  \n",
       "HGNC                                                                   \n",
       "NaN             -13.447824  3.170675e-41  8.644211e-37      36.063275  \n",
       "NaN             -13.128352  2.265343e-39  3.088003e-35      34.510322  \n",
       "ENSG00000234710 -12.818352  1.294219e-37  1.176143e-33      32.929540  \n",
       "NaN             -12.485594  8.947278e-36  6.098241e-32      31.214795  \n",
       "NaN             -12.307990  8.204139e-35  4.473389e-31      30.349363  \n",
       "...                    ...           ...           ...            ...  \n",
       "ENSG00000250253   0.000000  1.000000e+00           NaN            NaN  \n",
       "ENSG00000251918   0.000000  1.000000e+00           NaN            NaN  \n",
       "MIR487B           0.000000  1.000000e+00           NaN            NaN  \n",
       "IGHG4             0.000000  1.000000e+00           NaN            NaN  \n",
       "ENSG00000231324   0.000000  1.000000e+00           NaN            NaN  \n",
       "\n",
       "[30852 rows x 8 columns]"
      ]
     },
     "execution_count": 12,
     "metadata": {},
     "output_type": "execute_result"
    }
   ],
   "source": [
    "deg_df"
   ]
  },
  {
   "cell_type": "markdown",
   "id": "3253a7cf-e400-45f3-a0cb-6fa8091deb17",
   "metadata": {},
   "source": [
    "## Visualize Top Genes by Pvalue"
   ]
  },
  {
   "cell_type": "code",
   "execution_count": 13,
   "id": "7b97b2af-0c91-4e07-893d-26c588843ee9",
   "metadata": {},
   "outputs": [
    {
     "data": {
      "image/png": "[encoded data removed]",
      "text/plain": [
       "<Figure size 1152x720 with 2 Axes>"
      ]
     },
     "metadata": {},
     "output_type": "display_data"
    }
   ],
   "source": [
    "sns.set(style='whitegrid',font_scale=1.5)\n",
    "fig, ax1 = plt.subplots(figsize=(16,10))\n",
    "sns.barplot(data=deg_df.reset_index()\\\n",
    "                .sort_values(by='padj',ascending=True)\\\n",
    "                .head(30)\\\n",
    "                .sort_values(by='log2(fold change)',ascending=False),\n",
    "            y='HGNC',x='log2(fold change)',ax=ax1)\n",
    "ax2 = ax1.twiny()\n",
    "ax2.invert_yaxis()\n",
    "sns.scatterplot(data=deg_df.reset_index()\\\n",
    "                .sort_values(by='padj',ascending=True)\\\n",
    "                .head(30)\\\n",
    "                .sort_values(by='log2(fold change)',ascending=False),\n",
    "            y='HGNC',x='-log10(p adj)',ax=ax2)\n",
    "sns.despine()\n",
    "plt.ylabel('Gene Name')\n",
    "# plt.xlabel('Log2 Fold Change (ALS/CTR)')\n",
    "plt.title('Change in Expression in ALS iMNs over Control')\n",
    "plt.savefig(f\"{FIG_DIR}/imn_als_v_ctr_deseq_topgenes.png\",bbox_inches='tight')"
   ]
  },
  {
   "cell_type": "code",
   "execution_count": null,
   "id": "09e00942-9bbf-489b-a93b-635087111ab5",
   "metadata": {},
   "outputs": [],
   "source": []
  }
 ],
 "metadata": {
  "kernelspec": {
   "display_name": "dsplat",
   "language": "python",
   "name": "dsplat"
  },
  "language_info": {
   "codemirror_mode": {
    "name": "ipython",
    "version": 3
   },
   "file_extension": ".py",
   "mimetype": "text/x-python",
   "name": "python",
   "nbconvert_exporter": "python",
   "pygments_lexer": "ipython3",
   "version": "3.7.10"
  }
 },
 "nbformat": 4,
 "nbformat_minor": 5
}
