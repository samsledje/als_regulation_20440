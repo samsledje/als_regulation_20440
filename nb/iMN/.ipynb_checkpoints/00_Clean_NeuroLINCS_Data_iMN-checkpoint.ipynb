{
 "cells": [
  {
   "cell_type": "code",
   "execution_count": 1,
   "id": "debaba8e-e32b-488a-b734-6fd934982a6f",
   "metadata": {},
   "outputs": [],
   "source": [
    "import sys"
   ]
  },
  {
   "cell_type": "code",
   "execution_count": 10,
   "id": "163e1499-3caf-41fa-924d-69889fc64e23",
   "metadata": {},
   "outputs": [],
   "source": [
    "BASE_DIR = \"../..\"\n",
    "DATA_DIR = f\"{BASE_DIR}/data\"\n",
    "FIG_DIR = f\"{BASE_DIR}/figs\""
   ]
  },
  {
   "cell_type": "code",
   "execution_count": 11,
   "id": "fb02cc0c-7fe8-420e-9f37-6121fb3f4ab3",
   "metadata": {},
   "outputs": [],
   "source": [
    "sys.path.append(BASE_DIR)"
   ]
  },
  {
   "cell_type": "code",
   "execution_count": 12,
   "id": "2df57c0d-bffa-4063-a66d-a6eb59464304",
   "metadata": {},
   "outputs": [],
   "source": [
    "import numpy as np\n",
    "import pandas as pd\n",
    "import matplotlib.pyplot as plt\n",
    "import seaborn as sns"
   ]
  },
  {
   "cell_type": "code",
   "execution_count": 13,
   "id": "de87b078-6a68-46a3-8cbd-230a618abe2d",
   "metadata": {},
   "outputs": [],
   "source": [
    "import anndata as ad\n",
    "import scanpy as sc"
   ]
  },
  {
   "cell_type": "markdown",
   "id": "7653f4c2-f81c-4dfd-b848-e358c6bb3d11",
   "metadata": {
    "tags": []
   },
   "source": [
    "## Read Data"
   ]
  },
  {
   "cell_type": "markdown",
   "id": "c0187909-8cff-4e9b-ac01-363a2d3e5e38",
   "metadata": {},
   "source": [
    "### Transcriptomic"
   ]
  },
  {
   "cell_type": "code",
   "execution_count": 18,
   "id": "c7139abd-b13f-49d8-a811-bee4c31f538f",
   "metadata": {},
   "outputs": [],
   "source": [
    "rna_adata = ad.read_excel(f\"{DATA_DIR}/iMN_DESeq_DataLevel3_20170426_COMPLETE.xlsx\",sheet=\"iMNs_DESeq_JUL2015_all_merged\").T"
   ]
  },
  {
   "cell_type": "code",
   "execution_count": 29,
   "id": "021f9da5-6971-4b4c-b472-980e086e4379",
   "metadata": {},
   "outputs": [],
   "source": [
    "rna_meta = pd.read_csv(f\"{DATA_DIR}/Differentiated_Cell_Metadata.txt\",sep=\"\\t\")\n",
    "rna_meta[\"Condition\"] = rna_meta.DC_Name.transform(lambda x: x.split(\"_\")[0][-3:])\n",
    "rna_adata.obs = rna_meta"
   ]
  },
  {
   "cell_type": "markdown",
   "id": "6c3b8ab7-f921-4736-8f50-d217b67a3920",
   "metadata": {},
   "source": [
    "## Gene Name Mapping"
   ]
  },
  {
   "cell_type": "code",
   "execution_count": 31,
   "id": "2abe78b1-1fce-44e2-bcc6-0eb85baef3d5",
   "metadata": {},
   "outputs": [],
   "source": [
    "import biomart                                                                                                                                                                                              \n",
    "\n",
    "def get_ensembl_mappings():    \n",
    "    # from https://gist.github.com/ben-heil/cffbebf8865795fe2efbbfec041da969\n",
    "    # Set up connection to server                                                                                                                                                                           \n",
    "    server = biomart.BiomartServer('http://useast.ensembl.org/biomart')                                                                                                                                     \n",
    "    mart = server.datasets['hsapiens_gene_ensembl']                                                                                                                                                        \n",
    "\n",
    "    # List the types of data we want                                                                                                                                                                        \n",
    "    attributes = ['ensembl_transcript_id', 'hgnc_symbol',                                                                                                                                                    \n",
    "                  'ensembl_gene_id', 'ensembl_peptide_id']                                                                                                                                                  \n",
    "\n",
    "    # Get the mapping between the attributes                                                                                                                                                                \n",
    "    response = mart.search({'attributes': attributes})                                                                                                                                                      \n",
    "    data = response.raw.data.decode('ascii')                                                                                                                                                                \n",
    "\n",
    "    ensembl_to_genesymbol = {}                                                                                                                                                                              \n",
    "    # Store the data in a dict                                                                                                                                                                              \n",
    "    for line in data.splitlines():                                                                                                                                                                          \n",
    "        line = line.split('\\t')                                                                                                                                                                             \n",
    "        # The entries are in the same order as in the `attributes` variable                                                                                                                                 \n",
    "        transcript_id = line[0]                                                                                                                                                                             \n",
    "        gene_symbol = line[1]                                                                                                                                                                               \n",
    "        ensembl_gene = line[2]                                                                                                                                                                              \n",
    "        ensembl_peptide = line[3]                                                                                                                                                                           \n",
    "\n",
    "        # Some of these keys may be an empty string. If you want, you can\n",
    "        # avoid having a '' key in your dict by ensuring the\n",
    "        # transcript/gene/peptide ids have a nonzero length before\n",
    "        # adding them to the dict\n",
    "        ensembl_to_genesymbol[transcript_id] = gene_symbol\n",
    "        ensembl_to_genesymbol[ensembl_gene] = gene_symbol\n",
    "        ensembl_to_genesymbol[ensembl_peptide] = gene_symbol\n",
    "\n",
    "    return ensembl_to_genesymbol\n",
    "\n",
    "ens2gene = get_ensembl_mappings()"
   ]
  },
  {
   "cell_type": "code",
   "execution_count": 32,
   "id": "a6ad5fda-d606-4707-9c91-0b81a2f54dd4",
   "metadata": {
    "tags": []
   },
   "outputs": [
    {
     "data": {
      "application/vnd.jupyter.widget-view+json": {
       "model_id": "e64e772b765441b19c38d526fc0d385a",
       "version_major": 2,
       "version_minor": 0
      },
      "text/plain": [
       "  0%|          | 0/63769 [00:00<?, ?it/s]"
      ]
     },
     "metadata": {},
     "output_type": "display_data"
    },
    {
     "name": "stderr",
     "output_type": "stream",
     "text": [
      "IOStream.flush timed out\n",
      "IOStream.flush timed out\n",
      "IOStream.flush timed out\n",
      "IOStream.flush timed out\n"
     ]
    }
   ],
   "source": [
    "from gprofiler import GProfiler\n",
    "from tqdm.notebook import tqdm\n",
    "\n",
    "def get_ens2hgnc_mappings(query_list):\n",
    "\n",
    "    gp = GProfiler(return_dataframe=True)\n",
    "    gp_database = gp.convert(organism='hsapiens',query=query_list, target_namespace='HGNC').set_index('incoming')\n",
    "    \n",
    "    ens2hgnc = {}\n",
    "    for ens in tqdm(query_list):\n",
    "        mapper = gp_database.loc[ens,'converted']\n",
    "        if not isinstance(mapper,str):\n",
    "            mapper = mapper[0]\n",
    "        if mapper == 'None':\n",
    "            mapper = ens\n",
    "        ens2hgnc[ens] = mapper\n",
    "    \n",
    "        \n",
    "    return ens2hgnc\n",
    "\n",
    "ens2gene = get_ens2hgnc_mappings(list(rna_adata.var.index))"
   ]
  },
  {
   "cell_type": "code",
   "execution_count": 33,
   "id": "86419153-4d7d-4d8b-9392-e8ce045c4f1f",
   "metadata": {},
   "outputs": [],
   "source": [
    "rna_adata.var['HGNC'] = rna_adata.var.index.map(ens2gene)"
   ]
  },
  {
   "cell_type": "markdown",
   "id": "9fea62e9-cbe9-429b-b85e-19a24fb989ba",
   "metadata": {
    "tags": []
   },
   "source": [
    "## Split by Condition"
   ]
  },
  {
   "cell_type": "code",
   "execution_count": 34,
   "id": "f2d8a62c-0480-4524-a00a-2e3c20eaeba1",
   "metadata": {},
   "outputs": [
    {
     "name": "stderr",
     "output_type": "stream",
     "text": [
      "/afs/csail.mit.edu/u/s/samsl/.local/lib/python3.7/site-packages/anndata/_core/anndata.py:1094: FutureWarning: is_categorical is deprecated and will be removed in a future version.  Use is_categorical_dtype instead\n",
      "  if not is_categorical(df_full[k]):\n"
     ]
    }
   ],
   "source": [
    "rna_adata_ctr = rna_adata[rna_adata.obs.Condition == 'CTR']\n",
    "rna_adata_als = rna_adata[rna_adata.obs.Condition == 'ALS']\n",
    "rna_adata_sma = rna_adata[rna_adata.obs.Condition == 'SMA']"
   ]
  },
  {
   "cell_type": "markdown",
   "id": "2f528f24-bb92-4622-9f80-48b7759aba88",
   "metadata": {},
   "source": [
    "## RNA Preprocessing and QC"
   ]
  },
  {
   "cell_type": "code",
   "execution_count": 35,
   "id": "ebf5ed08-5480-42b0-9f71-8d76ee1ac5b4",
   "metadata": {},
   "outputs": [],
   "source": [
    "def preprocess_and_qc(adata):\n",
    "    sc.pp.filter_cells(adata, min_genes=200)\n",
    "    sc.pp.filter_genes(adata, min_cells=3)\n",
    "    \n",
    "    sc.pp.normalize_total(adata, target_sum=1e4)\n",
    "    sc.pp.log1p(adata)\n",
    "    \n",
    "    adata.var['mt'] = adata.var.HGNC.str.startswith('MT-')  # annotate the group of mitochondrial genes as 'mt'\n",
    "    sc.pp.calculate_qc_metrics(adata, qc_vars=['mt'], percent_top=None, inplace=True)\n",
    "    \n",
    "    sc.pp.highly_variable_genes(adata, min_mean=0.0125, max_mean=3, min_disp=0.5)\n",
    "    \n",
    "    return adata"
   ]
  },
  {
   "cell_type": "code",
   "execution_count": 36,
   "id": "9982558e-4f39-4726-8ec0-e9c6b7364ab0",
   "metadata": {},
   "outputs": [
    {
     "name": "stderr",
     "output_type": "stream",
     "text": [
      "Trying to set attribute `.obs` of view, copying.\n",
      "/afs/csail.mit.edu/u/s/samsl/.local/lib/python3.7/site-packages/anndata/_core/anndata.py:119: ImplicitModificationWarning: Transforming to str index.\n",
      "  warnings.warn(\"Transforming to str index.\", ImplicitModificationWarning)\n",
      "/afs/csail.mit.edu/u/s/samsl/.local/lib/python3.7/site-packages/scanpy/preprocessing/_simple.py:297: DeprecationWarning: Use is_view instead of isview, isview will be removed in the future.\n",
      "  if isinstance(data, AnnData) and data.isview:\n",
      "Trying to set attribute `.obs` of view, copying.\n",
      "/afs/csail.mit.edu/u/s/samsl/.local/lib/python3.7/site-packages/anndata/_core/anndata.py:119: ImplicitModificationWarning: Transforming to str index.\n",
      "  warnings.warn(\"Transforming to str index.\", ImplicitModificationWarning)\n",
      "/afs/csail.mit.edu/u/s/samsl/.local/lib/python3.7/site-packages/anndata/_core/anndata.py:1094: FutureWarning: is_categorical is deprecated and will be removed in a future version.  Use is_categorical_dtype instead\n",
      "  if not is_categorical(df_full[k]):\n",
      "/afs/csail.mit.edu/u/s/samsl/.local/lib/python3.7/site-packages/scanpy/preprocessing/_simple.py:297: DeprecationWarning: Use is_view instead of isview, isview will be removed in the future.\n",
      "  if isinstance(data, AnnData) and data.isview:\n"
     ]
    }
   ],
   "source": [
    "rna_adata_ctr = preprocess_and_qc(rna_adata_ctr)\n",
    "rna_adata_als = preprocess_and_qc(rna_adata_als)"
   ]
  },
  {
   "cell_type": "markdown",
   "id": "1d0b8015-1dff-4006-ba5b-6328991f1a0a",
   "metadata": {},
   "source": [
    "### Highly Variable Genes"
   ]
  },
  {
   "cell_type": "code",
   "execution_count": 37,
   "id": "0a6b394c-3bf6-4de0-ac3a-99abe008e20d",
   "metadata": {},
   "outputs": [
    {
     "data": {
      "image/png": "[encoded data removed]",
      "text/plain": [
       "<Figure size 864x288 with 2 Axes>"
      ]
     },
     "metadata": {
      "needs_background": "light"
     },
     "output_type": "display_data"
    },
    {
     "data": {
      "image/png": "[encoded data removed]",
      "text/plain": [
       "<Figure size 864x288 with 2 Axes>"
      ]
     },
     "metadata": {
      "needs_background": "light"
     },
     "output_type": "display_data"
    }
   ],
   "source": [
    "sc.pl.highly_variable_genes(rna_adata_als)\n",
    "sc.pl.highly_variable_genes(rna_adata_ctr)"
   ]
  },
  {
   "cell_type": "code",
   "execution_count": 38,
   "id": "4ac2f102-ece0-4116-98a0-b58f1e62a02d",
   "metadata": {},
   "outputs": [
    {
     "data": {
      "text/html": [
       "<div>\n",
       "<style scoped>\n",
       "    .dataframe tbody tr th:only-of-type {\n",
       "        vertical-align: middle;\n",
       "    }\n",
       "\n",
       "    .dataframe tbody tr th {\n",
       "        vertical-align: top;\n",
       "    }\n",
       "\n",
       "    .dataframe thead th {\n",
       "        text-align: right;\n",
       "    }\n",
       "</style>\n",
       "<table border=\"1\" class=\"dataframe\">\n",
       "  <thead>\n",
       "    <tr style=\"text-align: right;\">\n",
       "      <th></th>\n",
       "      <th>HGNC</th>\n",
       "      <th>n_cells</th>\n",
       "      <th>mt</th>\n",
       "      <th>n_cells_by_counts</th>\n",
       "      <th>mean_counts</th>\n",
       "      <th>log1p_mean_counts</th>\n",
       "      <th>pct_dropout_by_counts</th>\n",
       "      <th>total_counts</th>\n",
       "      <th>log1p_total_counts</th>\n",
       "      <th>highly_variable</th>\n",
       "      <th>means</th>\n",
       "      <th>dispersions</th>\n",
       "      <th>dispersions_norm</th>\n",
       "    </tr>\n",
       "  </thead>\n",
       "  <tbody>\n",
       "    <tr>\n",
       "      <th>ENSG00000132688</th>\n",
       "      <td>NES</td>\n",
       "      <td>6</td>\n",
       "      <td>False</td>\n",
       "      <td>6</td>\n",
       "      <td>2.649545</td>\n",
       "      <td>1.294602</td>\n",
       "      <td>0.0</td>\n",
       "      <td>15.897268</td>\n",
       "      <td>2.827152</td>\n",
       "      <td>True</td>\n",
       "      <td>2.746951</td>\n",
       "      <td>1.343617</td>\n",
       "      <td>1.151443</td>\n",
       "    </tr>\n",
       "    <tr>\n",
       "      <th>ENSG00000127022</th>\n",
       "      <td>CANX</td>\n",
       "      <td>6</td>\n",
       "      <td>False</td>\n",
       "      <td>6</td>\n",
       "      <td>2.642129</td>\n",
       "      <td>1.292568</td>\n",
       "      <td>0.0</td>\n",
       "      <td>15.852776</td>\n",
       "      <td>2.824515</td>\n",
       "      <td>True</td>\n",
       "      <td>2.678798</td>\n",
       "      <td>0.357018</td>\n",
       "      <td>0.508948</td>\n",
       "    </tr>\n",
       "    <tr>\n",
       "      <th>ENSG00000078018</th>\n",
       "      <td>MAP2</td>\n",
       "      <td>6</td>\n",
       "      <td>False</td>\n",
       "      <td>6</td>\n",
       "      <td>2.590266</td>\n",
       "      <td>1.278226</td>\n",
       "      <td>0.0</td>\n",
       "      <td>15.541599</td>\n",
       "      <td>2.805878</td>\n",
       "      <td>True</td>\n",
       "      <td>2.629021</td>\n",
       "      <td>0.361209</td>\n",
       "      <td>0.511470</td>\n",
       "    </tr>\n",
       "    <tr>\n",
       "      <th>ENSG00000112531</th>\n",
       "      <td>QKI</td>\n",
       "      <td>6</td>\n",
       "      <td>False</td>\n",
       "      <td>6</td>\n",
       "      <td>2.498233</td>\n",
       "      <td>1.252258</td>\n",
       "      <td>0.0</td>\n",
       "      <td>14.989396</td>\n",
       "      <td>2.771926</td>\n",
       "      <td>True</td>\n",
       "      <td>2.630290</td>\n",
       "      <td>1.296085</td>\n",
       "      <td>1.074012</td>\n",
       "    </tr>\n",
       "    <tr>\n",
       "      <th>ENSG00000151914</th>\n",
       "      <td>DST</td>\n",
       "      <td>6</td>\n",
       "      <td>False</td>\n",
       "      <td>6</td>\n",
       "      <td>2.443602</td>\n",
       "      <td>1.236518</td>\n",
       "      <td>0.0</td>\n",
       "      <td>14.661613</td>\n",
       "      <td>2.751213</td>\n",
       "      <td>True</td>\n",
       "      <td>2.503056</td>\n",
       "      <td>0.429358</td>\n",
       "      <td>0.552476</td>\n",
       "    </tr>\n",
       "  </tbody>\n",
       "</table>\n",
       "</div>"
      ],
      "text/plain": [
       "                 HGNC  n_cells     mt  n_cells_by_counts  mean_counts  \\\n",
       "ENSG00000132688   NES        6  False                  6     2.649545   \n",
       "ENSG00000127022  CANX        6  False                  6     2.642129   \n",
       "ENSG00000078018  MAP2        6  False                  6     2.590266   \n",
       "ENSG00000112531   QKI        6  False                  6     2.498233   \n",
       "ENSG00000151914   DST        6  False                  6     2.443602   \n",
       "\n",
       "                 log1p_mean_counts  pct_dropout_by_counts  total_counts  \\\n",
       "ENSG00000132688           1.294602                    0.0     15.897268   \n",
       "ENSG00000127022           1.292568                    0.0     15.852776   \n",
       "ENSG00000078018           1.278226                    0.0     15.541599   \n",
       "ENSG00000112531           1.252258                    0.0     14.989396   \n",
       "ENSG00000151914           1.236518                    0.0     14.661613   \n",
       "\n",
       "                 log1p_total_counts  highly_variable     means  dispersions  \\\n",
       "ENSG00000132688            2.827152             True  2.746951     1.343617   \n",
       "ENSG00000127022            2.824515             True  2.678798     0.357018   \n",
       "ENSG00000078018            2.805878             True  2.629021     0.361209   \n",
       "ENSG00000112531            2.771926             True  2.630290     1.296085   \n",
       "ENSG00000151914            2.751213             True  2.503056     0.429358   \n",
       "\n",
       "                 dispersions_norm  \n",
       "ENSG00000132688          1.151443  \n",
       "ENSG00000127022          0.508948  \n",
       "ENSG00000078018          0.511470  \n",
       "ENSG00000112531          1.074012  \n",
       "ENSG00000151914          0.552476  "
      ]
     },
     "execution_count": 38,
     "metadata": {},
     "output_type": "execute_result"
    }
   ],
   "source": [
    "rna_adata_ctr.var[rna_adata_ctr.var.highly_variable].sort_values(by='total_counts',ascending=False).head()"
   ]
  },
  {
   "cell_type": "code",
   "execution_count": 39,
   "id": "c748cfa9-8b1f-4f6e-8fe3-b9888c7c54bc",
   "metadata": {},
   "outputs": [
    {
     "data": {
      "text/html": [
       "<div>\n",
       "<style scoped>\n",
       "    .dataframe tbody tr th:only-of-type {\n",
       "        vertical-align: middle;\n",
       "    }\n",
       "\n",
       "    .dataframe tbody tr th {\n",
       "        vertical-align: top;\n",
       "    }\n",
       "\n",
       "    .dataframe thead th {\n",
       "        text-align: right;\n",
       "    }\n",
       "</style>\n",
       "<table border=\"1\" class=\"dataframe\">\n",
       "  <thead>\n",
       "    <tr style=\"text-align: right;\">\n",
       "      <th></th>\n",
       "      <th>HGNC</th>\n",
       "      <th>n_cells</th>\n",
       "      <th>mt</th>\n",
       "      <th>n_cells_by_counts</th>\n",
       "      <th>mean_counts</th>\n",
       "      <th>log1p_mean_counts</th>\n",
       "      <th>pct_dropout_by_counts</th>\n",
       "      <th>total_counts</th>\n",
       "      <th>log1p_total_counts</th>\n",
       "      <th>highly_variable</th>\n",
       "      <th>means</th>\n",
       "      <th>dispersions</th>\n",
       "      <th>dispersions_norm</th>\n",
       "    </tr>\n",
       "  </thead>\n",
       "  <tbody>\n",
       "    <tr>\n",
       "      <th>ENSG00000130635</th>\n",
       "      <td>COL5A1</td>\n",
       "      <td>8</td>\n",
       "      <td>False</td>\n",
       "      <td>8</td>\n",
       "      <td>2.694935</td>\n",
       "      <td>1.306963</td>\n",
       "      <td>0.0</td>\n",
       "      <td>21.559481</td>\n",
       "      <td>3.116155</td>\n",
       "      <td>True</td>\n",
       "      <td>2.953765</td>\n",
       "      <td>2.237491</td>\n",
       "      <td>0.918497</td>\n",
       "    </tr>\n",
       "    <tr>\n",
       "      <th>ENSG00000163430</th>\n",
       "      <td>FSTL1</td>\n",
       "      <td>8</td>\n",
       "      <td>False</td>\n",
       "      <td>8</td>\n",
       "      <td>2.573009</td>\n",
       "      <td>1.273408</td>\n",
       "      <td>0.0</td>\n",
       "      <td>20.584076</td>\n",
       "      <td>3.071956</td>\n",
       "      <td>True</td>\n",
       "      <td>2.823345</td>\n",
       "      <td>2.350162</td>\n",
       "      <td>1.014690</td>\n",
       "    </tr>\n",
       "    <tr>\n",
       "      <th>ENSG00000122786</th>\n",
       "      <td>CALD1</td>\n",
       "      <td>8</td>\n",
       "      <td>False</td>\n",
       "      <td>8</td>\n",
       "      <td>2.567562</td>\n",
       "      <td>1.271882</td>\n",
       "      <td>0.0</td>\n",
       "      <td>20.540493</td>\n",
       "      <td>3.069935</td>\n",
       "      <td>True</td>\n",
       "      <td>2.664395</td>\n",
       "      <td>1.107226</td>\n",
       "      <td>0.597701</td>\n",
       "    </tr>\n",
       "    <tr>\n",
       "      <th>ENSG00000166147</th>\n",
       "      <td>FBN1</td>\n",
       "      <td>8</td>\n",
       "      <td>False</td>\n",
       "      <td>8</td>\n",
       "      <td>2.458086</td>\n",
       "      <td>1.240715</td>\n",
       "      <td>0.0</td>\n",
       "      <td>19.664692</td>\n",
       "      <td>3.028427</td>\n",
       "      <td>True</td>\n",
       "      <td>2.763314</td>\n",
       "      <td>2.041986</td>\n",
       "      <td>1.147606</td>\n",
       "    </tr>\n",
       "    <tr>\n",
       "      <th>ENSG00000133112</th>\n",
       "      <td>TPT1</td>\n",
       "      <td>8</td>\n",
       "      <td>False</td>\n",
       "      <td>8</td>\n",
       "      <td>2.383224</td>\n",
       "      <td>1.218829</td>\n",
       "      <td>0.0</td>\n",
       "      <td>19.065792</td>\n",
       "      <td>2.999017</td>\n",
       "      <td>True</td>\n",
       "      <td>2.466630</td>\n",
       "      <td>0.966993</td>\n",
       "      <td>0.601549</td>\n",
       "    </tr>\n",
       "  </tbody>\n",
       "</table>\n",
       "</div>"
      ],
      "text/plain": [
       "                   HGNC  n_cells     mt  n_cells_by_counts  mean_counts  \\\n",
       "ENSG00000130635  COL5A1        8  False                  8     2.694935   \n",
       "ENSG00000163430   FSTL1        8  False                  8     2.573009   \n",
       "ENSG00000122786   CALD1        8  False                  8     2.567562   \n",
       "ENSG00000166147    FBN1        8  False                  8     2.458086   \n",
       "ENSG00000133112    TPT1        8  False                  8     2.383224   \n",
       "\n",
       "                 log1p_mean_counts  pct_dropout_by_counts  total_counts  \\\n",
       "ENSG00000130635           1.306963                    0.0     21.559481   \n",
       "ENSG00000163430           1.273408                    0.0     20.584076   \n",
       "ENSG00000122786           1.271882                    0.0     20.540493   \n",
       "ENSG00000166147           1.240715                    0.0     19.664692   \n",
       "ENSG00000133112           1.218829                    0.0     19.065792   \n",
       "\n",
       "                 log1p_total_counts  highly_variable     means  dispersions  \\\n",
       "ENSG00000130635            3.116155             True  2.953765     2.237491   \n",
       "ENSG00000163430            3.071956             True  2.823345     2.350162   \n",
       "ENSG00000122786            3.069935             True  2.664395     1.107226   \n",
       "ENSG00000166147            3.028427             True  2.763314     2.041986   \n",
       "ENSG00000133112            2.999017             True  2.466630     0.966993   \n",
       "\n",
       "                 dispersions_norm  \n",
       "ENSG00000130635          0.918497  \n",
       "ENSG00000163430          1.014690  \n",
       "ENSG00000122786          0.597701  \n",
       "ENSG00000166147          1.147606  \n",
       "ENSG00000133112          0.601549  "
      ]
     },
     "execution_count": 39,
     "metadata": {},
     "output_type": "execute_result"
    }
   ],
   "source": [
    "rna_adata_als.var[rna_adata_als.var.highly_variable].sort_values(by='total_counts',ascending=False).head()"
   ]
  },
  {
   "cell_type": "markdown",
   "id": "635f11c2-bdc7-4537-822c-94644799aee5",
   "metadata": {
    "jp-MarkdownHeadingCollapsed": true,
    "tags": []
   },
   "source": [
    "### Fold Change in Case/Control Mean Counts"
   ]
  },
  {
   "cell_type": "code",
   "execution_count": 150,
   "id": "d4851a26-8b50-4532-ab2c-e56c388861a9",
   "metadata": {},
   "outputs": [],
   "source": [
    "fold_change = rna_adata_als.var[['HGNC','mean_counts']].set_index('HGNC') / rna_adata_ctr.var[['HGNC','mean_counts']].set_index('HGNC')"
   ]
  },
  {
   "cell_type": "code",
   "execution_count": 151,
   "id": "f8a446b8-e1f2-4b0c-975c-e37858e1a67f",
   "metadata": {},
   "outputs": [
    {
     "data": {
      "text/html": [
       "<div>\n",
       "<style scoped>\n",
       "    .dataframe tbody tr th:only-of-type {\n",
       "        vertical-align: middle;\n",
       "    }\n",
       "\n",
       "    .dataframe tbody tr th {\n",
       "        vertical-align: top;\n",
       "    }\n",
       "\n",
       "    .dataframe thead th {\n",
       "        text-align: right;\n",
       "    }\n",
       "</style>\n",
       "<table border=\"1\" class=\"dataframe\">\n",
       "  <thead>\n",
       "    <tr style=\"text-align: right;\">\n",
       "      <th></th>\n",
       "      <th>mean_counts</th>\n",
       "    </tr>\n",
       "    <tr>\n",
       "      <th>HGNC</th>\n",
       "      <th></th>\n",
       "    </tr>\n",
       "  </thead>\n",
       "  <tbody>\n",
       "    <tr>\n",
       "      <th>PEG3</th>\n",
       "      <td>189.554962</td>\n",
       "    </tr>\n",
       "    <tr>\n",
       "      <th>GYG2P1</th>\n",
       "      <td>25.309408</td>\n",
       "    </tr>\n",
       "    <tr>\n",
       "      <th>POTEC</th>\n",
       "      <td>20.834879</td>\n",
       "    </tr>\n",
       "    <tr>\n",
       "      <th>CXADRP3</th>\n",
       "      <td>13.292338</td>\n",
       "    </tr>\n",
       "    <tr>\n",
       "      <th>ZNF257</th>\n",
       "      <td>11.761340</td>\n",
       "    </tr>\n",
       "    <tr>\n",
       "      <th>...</th>\n",
       "      <td>...</td>\n",
       "    </tr>\n",
       "    <tr>\n",
       "      <th>ZNF90P3</th>\n",
       "      <td>NaN</td>\n",
       "    </tr>\n",
       "    <tr>\n",
       "      <th>ZNF98</th>\n",
       "      <td>NaN</td>\n",
       "    </tr>\n",
       "    <tr>\n",
       "      <th>ZNRF4</th>\n",
       "      <td>NaN</td>\n",
       "    </tr>\n",
       "    <tr>\n",
       "      <th>ZSCAN5DP</th>\n",
       "      <td>NaN</td>\n",
       "    </tr>\n",
       "    <tr>\n",
       "      <th>ZSWIM8-AS1</th>\n",
       "      <td>NaN</td>\n",
       "    </tr>\n",
       "  </tbody>\n",
       "</table>\n",
       "<p>33344 rows × 1 columns</p>\n",
       "</div>"
      ],
      "text/plain": [
       "            mean_counts\n",
       "HGNC                   \n",
       "PEG3         189.554962\n",
       "GYG2P1        25.309408\n",
       "POTEC         20.834879\n",
       "CXADRP3       13.292338\n",
       "ZNF257        11.761340\n",
       "...                 ...\n",
       "ZNF90P3             NaN\n",
       "ZNF98               NaN\n",
       "ZNRF4               NaN\n",
       "ZSCAN5DP            NaN\n",
       "ZSWIM8-AS1          NaN\n",
       "\n",
       "[33344 rows x 1 columns]"
      ]
     },
     "execution_count": 151,
     "metadata": {},
     "output_type": "execute_result"
    }
   ],
   "source": [
    "fold_change.sort_values(by='mean_counts',ascending=False)"
   ]
  },
  {
   "cell_type": "code",
   "execution_count": 170,
   "id": "03b92ec5-2634-41c5-88a7-c5d20a50e874",
   "metadata": {},
   "outputs": [
    {
     "data": {
      "image/png": "[encoded data removed]",
      "text/plain": [
       "<Figure size 576x360 with 1 Axes>"
      ]
     },
     "metadata": {
      "needs_background": "light"
     },
     "output_type": "display_data"
    }
   ],
   "source": [
    "plt.figure(figsize=(8, 5))\n",
    "sns.barplot(data=fold_change.reset_index().sort_values(by='mean_counts',ascending=False).head(30),y='HGNC',x='mean_counts')\n",
    "sns.despine()\n",
    "plt.ylabel('Gene Name')\n",
    "plt.xlabel('Fold Change (ALS/CTR) Transcript Count')\n",
    "# plt.xscale('log',base=2)\n",
    "plt.xscale('log')\n",
    "plt.title('Change in Expression in ALS iPSCs over Control')\n",
    "plt.savefig(f\"{FIG_DIR}/als_ctr_fold_change_rna.png\",bbox_inches='tight')"
   ]
  },
  {
   "cell_type": "markdown",
   "id": "03af124c-b5dc-4744-b0aa-1c26886b825f",
   "metadata": {
    "jp-MarkdownHeadingCollapsed": true,
    "tags": []
   },
   "source": [
    "### Highly Expressed (- mitochondrial)"
   ]
  },
  {
   "cell_type": "code",
   "execution_count": 44,
   "id": "ddc45dd1-84be-4fd2-b6b6-a88823aa0471",
   "metadata": {},
   "outputs": [
    {
     "name": "stderr",
     "output_type": "stream",
     "text": [
      "/afs/csail.mit.edu/u/s/samsl/.local/lib/python3.7/site-packages/anndata/_core/anndata.py:1094: FutureWarning: is_categorical is deprecated and will be removed in a future version.  Use is_categorical_dtype instead\n",
      "  if not is_categorical(df_full[k]):\n",
      "/afs/csail.mit.edu/u/s/samsl/Work/anaconda3/envs/dsplat/lib/python3.7/site-packages/pandas/core/arrays/categorical.py:2630: FutureWarning: The `inplace` parameter in pandas.Categorical.remove_unused_categories is deprecated and will be removed in a future version.\n",
      "  res = method(*args, **kwargs)\n"
     ]
    },
    {
     "data": {
      "image/png": "[encoded data removed]",
      "text/plain": [
       "<Figure size 360x396 with 1 Axes>"
      ]
     },
     "metadata": {
      "needs_background": "light"
     },
     "output_type": "display_data"
    }
   ],
   "source": [
    "sc.pl.highest_expr_genes(rna_adata[:,~rna_adata.var.mt], n_top=20, )"
   ]
  },
  {
   "cell_type": "code",
   "execution_count": 45,
   "id": "4a5bdb4a-293f-46c7-a49f-0699ac44066b",
   "metadata": {},
   "outputs": [
    {
     "name": "stderr",
     "output_type": "stream",
     "text": [
      "/afs/csail.mit.edu/u/s/samsl/.local/lib/python3.7/site-packages/anndata/_core/anndata.py:1094: FutureWarning: is_categorical is deprecated and will be removed in a future version.  Use is_categorical_dtype instead\n",
      "  if not is_categorical(df_full[k]):\n",
      "/afs/csail.mit.edu/u/s/samsl/Work/anaconda3/envs/dsplat/lib/python3.7/site-packages/pandas/core/arrays/categorical.py:2630: FutureWarning: The `inplace` parameter in pandas.Categorical.remove_unused_categories is deprecated and will be removed in a future version.\n",
      "  res = method(*args, **kwargs)\n"
     ]
    },
    {
     "data": {
      "text/html": [
       "<div>\n",
       "<style scoped>\n",
       "    .dataframe tbody tr th:only-of-type {\n",
       "        vertical-align: middle;\n",
       "    }\n",
       "\n",
       "    .dataframe tbody tr th {\n",
       "        vertical-align: top;\n",
       "    }\n",
       "\n",
       "    .dataframe thead th {\n",
       "        text-align: right;\n",
       "    }\n",
       "</style>\n",
       "<table border=\"1\" class=\"dataframe\">\n",
       "  <thead>\n",
       "    <tr style=\"text-align: right;\">\n",
       "      <th></th>\n",
       "      <th>HGNC</th>\n",
       "      <th>n_cells</th>\n",
       "      <th>mt</th>\n",
       "      <th>n_cells_by_counts</th>\n",
       "      <th>mean_counts</th>\n",
       "      <th>log1p_mean_counts</th>\n",
       "      <th>pct_dropout_by_counts</th>\n",
       "      <th>total_counts</th>\n",
       "      <th>log1p_total_counts</th>\n",
       "      <th>highly_variable</th>\n",
       "      <th>means</th>\n",
       "      <th>dispersions</th>\n",
       "      <th>dispersions_norm</th>\n",
       "    </tr>\n",
       "  </thead>\n",
       "  <tbody>\n",
       "    <tr>\n",
       "      <th>ENSG00000156508</th>\n",
       "      <td>EEF1A1</td>\n",
       "      <td>29</td>\n",
       "      <td>False</td>\n",
       "      <td>29</td>\n",
       "      <td>4.422039</td>\n",
       "      <td>1.690472</td>\n",
       "      <td>0.000000</td>\n",
       "      <td>128.239120</td>\n",
       "      <td>4.861664</td>\n",
       "      <td>False</td>\n",
       "      <td>4.440307</td>\n",
       "      <td>1.081052</td>\n",
       "      <td>-0.707107</td>\n",
       "    </tr>\n",
       "    <tr>\n",
       "      <th>ENSG00000075624</th>\n",
       "      <td>ACTB</td>\n",
       "      <td>29</td>\n",
       "      <td>False</td>\n",
       "      <td>29</td>\n",
       "      <td>3.423992</td>\n",
       "      <td>1.487042</td>\n",
       "      <td>0.000000</td>\n",
       "      <td>99.295761</td>\n",
       "      <td>4.608123</td>\n",
       "      <td>False</td>\n",
       "      <td>3.446537</td>\n",
       "      <td>0.474388</td>\n",
       "      <td>0.169538</td>\n",
       "    </tr>\n",
       "    <tr>\n",
       "      <th>ENSG00000096384</th>\n",
       "      <td>HSP90AB1</td>\n",
       "      <td>29</td>\n",
       "      <td>False</td>\n",
       "      <td>29</td>\n",
       "      <td>3.400498</td>\n",
       "      <td>1.481718</td>\n",
       "      <td>0.000000</td>\n",
       "      <td>98.614456</td>\n",
       "      <td>4.601307</td>\n",
       "      <td>False</td>\n",
       "      <td>3.406837</td>\n",
       "      <td>-0.909180</td>\n",
       "      <td>-1.198873</td>\n",
       "    </tr>\n",
       "    <tr>\n",
       "      <th>ENSG00000135486</th>\n",
       "      <td>HNRNPA1</td>\n",
       "      <td>29</td>\n",
       "      <td>False</td>\n",
       "      <td>29</td>\n",
       "      <td>3.342783</td>\n",
       "      <td>1.468516</td>\n",
       "      <td>0.000000</td>\n",
       "      <td>96.940720</td>\n",
       "      <td>4.584363</td>\n",
       "      <td>False</td>\n",
       "      <td>3.351440</td>\n",
       "      <td>-0.624069</td>\n",
       "      <td>-0.916885</td>\n",
       "    </tr>\n",
       "    <tr>\n",
       "      <th>ENSG00000074800</th>\n",
       "      <td>ENO1</td>\n",
       "      <td>29</td>\n",
       "      <td>False</td>\n",
       "      <td>29</td>\n",
       "      <td>3.269775</td>\n",
       "      <td>1.451561</td>\n",
       "      <td>0.000000</td>\n",
       "      <td>94.823463</td>\n",
       "      <td>4.562508</td>\n",
       "      <td>False</td>\n",
       "      <td>3.296112</td>\n",
       "      <td>0.504974</td>\n",
       "      <td>0.199789</td>\n",
       "    </tr>\n",
       "    <tr>\n",
       "      <th>...</th>\n",
       "      <td>...</td>\n",
       "      <td>...</td>\n",
       "      <td>...</td>\n",
       "      <td>...</td>\n",
       "      <td>...</td>\n",
       "      <td>...</td>\n",
       "      <td>...</td>\n",
       "      <td>...</td>\n",
       "      <td>...</td>\n",
       "      <td>...</td>\n",
       "      <td>...</td>\n",
       "      <td>...</td>\n",
       "      <td>...</td>\n",
       "    </tr>\n",
       "    <tr>\n",
       "      <th>ENSG00000231983</th>\n",
       "      <td>LINC00415</td>\n",
       "      <td>3</td>\n",
       "      <td>False</td>\n",
       "      <td>3</td>\n",
       "      <td>0.000036</td>\n",
       "      <td>0.000036</td>\n",
       "      <td>89.655172</td>\n",
       "      <td>0.001034</td>\n",
       "      <td>0.001033</td>\n",
       "      <td>False</td>\n",
       "      <td>0.000036</td>\n",
       "      <td>-8.045547</td>\n",
       "      <td>-0.991768</td>\n",
       "    </tr>\n",
       "    <tr>\n",
       "      <th>ENSG00000211780</th>\n",
       "      <td>TRAV6</td>\n",
       "      <td>3</td>\n",
       "      <td>False</td>\n",
       "      <td>3</td>\n",
       "      <td>0.000035</td>\n",
       "      <td>0.000035</td>\n",
       "      <td>89.655172</td>\n",
       "      <td>0.001027</td>\n",
       "      <td>0.001026</td>\n",
       "      <td>False</td>\n",
       "      <td>0.000035</td>\n",
       "      <td>-8.052823</td>\n",
       "      <td>-0.997443</td>\n",
       "    </tr>\n",
       "    <tr>\n",
       "      <th>ENSG00000260487</th>\n",
       "      <td></td>\n",
       "      <td>3</td>\n",
       "      <td>False</td>\n",
       "      <td>3</td>\n",
       "      <td>0.000035</td>\n",
       "      <td>0.000035</td>\n",
       "      <td>89.655172</td>\n",
       "      <td>0.001027</td>\n",
       "      <td>0.001026</td>\n",
       "      <td>False</td>\n",
       "      <td>0.000035</td>\n",
       "      <td>-8.052955</td>\n",
       "      <td>-0.997546</td>\n",
       "    </tr>\n",
       "    <tr>\n",
       "      <th>ENSG00000254472</th>\n",
       "      <td>OR4A49P</td>\n",
       "      <td>3</td>\n",
       "      <td>False</td>\n",
       "      <td>3</td>\n",
       "      <td>0.000035</td>\n",
       "      <td>0.000035</td>\n",
       "      <td>89.655172</td>\n",
       "      <td>0.001027</td>\n",
       "      <td>0.001026</td>\n",
       "      <td>False</td>\n",
       "      <td>0.000035</td>\n",
       "      <td>-8.052955</td>\n",
       "      <td>-0.997546</td>\n",
       "    </tr>\n",
       "    <tr>\n",
       "      <th>ENSG00000249203</th>\n",
       "      <td>LINC02224</td>\n",
       "      <td>3</td>\n",
       "      <td>False</td>\n",
       "      <td>3</td>\n",
       "      <td>0.000035</td>\n",
       "      <td>0.000035</td>\n",
       "      <td>89.655172</td>\n",
       "      <td>0.001023</td>\n",
       "      <td>0.001023</td>\n",
       "      <td>False</td>\n",
       "      <td>0.000035</td>\n",
       "      <td>-8.056798</td>\n",
       "      <td>-1.000544</td>\n",
       "    </tr>\n",
       "  </tbody>\n",
       "</table>\n",
       "<p>37009 rows × 13 columns</p>\n",
       "</div>"
      ],
      "text/plain": [
       "                      HGNC  n_cells     mt  n_cells_by_counts  mean_counts  \\\n",
       "ENSG00000156508     EEF1A1       29  False                 29     4.422039   \n",
       "ENSG00000075624       ACTB       29  False                 29     3.423992   \n",
       "ENSG00000096384   HSP90AB1       29  False                 29     3.400498   \n",
       "ENSG00000135486    HNRNPA1       29  False                 29     3.342783   \n",
       "ENSG00000074800       ENO1       29  False                 29     3.269775   \n",
       "...                    ...      ...    ...                ...          ...   \n",
       "ENSG00000231983  LINC00415        3  False                  3     0.000036   \n",
       "ENSG00000211780      TRAV6        3  False                  3     0.000035   \n",
       "ENSG00000260487                   3  False                  3     0.000035   \n",
       "ENSG00000254472    OR4A49P        3  False                  3     0.000035   \n",
       "ENSG00000249203  LINC02224        3  False                  3     0.000035   \n",
       "\n",
       "                 log1p_mean_counts  pct_dropout_by_counts  total_counts  \\\n",
       "ENSG00000156508           1.690472               0.000000    128.239120   \n",
       "ENSG00000075624           1.487042               0.000000     99.295761   \n",
       "ENSG00000096384           1.481718               0.000000     98.614456   \n",
       "ENSG00000135486           1.468516               0.000000     96.940720   \n",
       "ENSG00000074800           1.451561               0.000000     94.823463   \n",
       "...                            ...                    ...           ...   \n",
       "ENSG00000231983           0.000036              89.655172      0.001034   \n",
       "ENSG00000211780           0.000035              89.655172      0.001027   \n",
       "ENSG00000260487           0.000035              89.655172      0.001027   \n",
       "ENSG00000254472           0.000035              89.655172      0.001027   \n",
       "ENSG00000249203           0.000035              89.655172      0.001023   \n",
       "\n",
       "                 log1p_total_counts  highly_variable     means  dispersions  \\\n",
       "ENSG00000156508            4.861664            False  4.440307     1.081052   \n",
       "ENSG00000075624            4.608123            False  3.446537     0.474388   \n",
       "ENSG00000096384            4.601307            False  3.406837    -0.909180   \n",
       "ENSG00000135486            4.584363            False  3.351440    -0.624069   \n",
       "ENSG00000074800            4.562508            False  3.296112     0.504974   \n",
       "...                             ...              ...       ...          ...   \n",
       "ENSG00000231983            0.001033            False  0.000036    -8.045547   \n",
       "ENSG00000211780            0.001026            False  0.000035    -8.052823   \n",
       "ENSG00000260487            0.001026            False  0.000035    -8.052955   \n",
       "ENSG00000254472            0.001026            False  0.000035    -8.052955   \n",
       "ENSG00000249203            0.001023            False  0.000035    -8.056798   \n",
       "\n",
       "                 dispersions_norm  \n",
       "ENSG00000156508         -0.707107  \n",
       "ENSG00000075624          0.169538  \n",
       "ENSG00000096384         -1.198873  \n",
       "ENSG00000135486         -0.916885  \n",
       "ENSG00000074800          0.199789  \n",
       "...                           ...  \n",
       "ENSG00000231983         -0.991768  \n",
       "ENSG00000211780         -0.997443  \n",
       "ENSG00000260487         -0.997546  \n",
       "ENSG00000254472         -0.997546  \n",
       "ENSG00000249203         -1.000544  \n",
       "\n",
       "[37009 rows x 13 columns]"
      ]
     },
     "execution_count": 45,
     "metadata": {},
     "output_type": "execute_result"
    }
   ],
   "source": [
    "rna_adata[:,~rna_adata.var.mt].var.sort_values(by='total_counts',ascending=False)"
   ]
  },
  {
   "cell_type": "markdown",
   "id": "12ebddbc-d077-4a84-a45c-7e43cba79ba9",
   "metadata": {},
   "source": [
    "## Write H5"
   ]
  },
  {
   "cell_type": "code",
   "execution_count": 40,
   "id": "d75f8979-82b2-472a-b58a-c18456d61ae8",
   "metadata": {},
   "outputs": [],
   "source": [
    "control_save_path = f\"{BASE_DIR}/nbdata/iMN_rna_ctr_preprocessed.h5ad\"\n",
    "als_save_path = f\"{BASE_DIR}/nbdata/iMN_rna_als_preprocessed.h5ad\""
   ]
  },
  {
   "cell_type": "code",
   "execution_count": 41,
   "id": "33948b53-1df5-4f3f-a56d-150546f35a14",
   "metadata": {},
   "outputs": [
    {
     "name": "stderr",
     "output_type": "stream",
     "text": [
      "/afs/csail.mit.edu/u/s/samsl/.local/lib/python3.7/site-packages/anndata/_core/anndata.py:1192: FutureWarning: is_categorical is deprecated and will be removed in a future version.  Use is_categorical_dtype instead\n",
      "  if is_string_dtype(df[key]) and not is_categorical(df[key])\n",
      "... storing 'DC_Name' as categorical\n",
      "... storing 'DC_LINCS_ID' as categorical\n",
      "... storing 'Condition' as categorical\n",
      "... storing 'HGNC' as categorical\n",
      "... storing 'DC_Name' as categorical\n",
      "... storing 'DC_LINCS_ID' as categorical\n",
      "... storing 'Condition' as categorical\n",
      "... storing 'HGNC' as categorical\n"
     ]
    }
   ],
   "source": [
    "rna_adata_als.write(als_save_path)\n",
    "rna_adata_ctr.write(control_save_path)"
   ]
  },
  {
   "cell_type": "markdown",
   "id": "25e2730e-8e51-4db4-b709-e92b861fa934",
   "metadata": {},
   "source": [
    "# Write Transcription Factors as txt"
   ]
  },
  {
   "cell_type": "code",
   "execution_count": 43,
   "id": "02810808-3cb8-43c4-8bd4-af04a81575ae",
   "metadata": {},
   "outputs": [],
   "source": [
    "tf_list = pd.read_csv(f'{DATA_DIR}/HumanTFs.csv',index_col=1)"
   ]
  },
  {
   "cell_type": "code",
   "execution_count": 44,
   "id": "f8c2015b-e9c0-48a5-b04b-e5b75ab7b0b8",
   "metadata": {},
   "outputs": [],
   "source": [
    "common_tfs = set(rna_adata.var.index).intersection(set(tf_list.index))"
   ]
  },
  {
   "cell_type": "code",
   "execution_count": 46,
   "id": "76635495-cc93-4687-adb1-17e74d713e30",
   "metadata": {},
   "outputs": [],
   "source": [
    "with open('../../nbdata/iMN_human_tflist.txt','w+') as f:\n",
    "    for tf in list(common_tfs):\n",
    "        f.write(f\"{tf}\\n\")"
   ]
  },
  {
   "cell_type": "code",
   "execution_count": null,
   "id": "4fbdf82a-d81a-4acb-b23f-cbe771a5db62",
   "metadata": {},
   "outputs": [],
   "source": []
  }
 ],
 "metadata": {
  "kernelspec": {
   "display_name": "dsplat",
   "language": "python",
   "name": "dsplat"
  },
  "language_info": {
   "codemirror_mode": {
    "name": "ipython",
    "version": 3
   },
   "file_extension": ".py",
   "mimetype": "text/x-python",
   "name": "python",
   "nbconvert_exporter": "python",
   "pygments_lexer": "ipython3",
   "version": "3.7.10"
  }
 },
 "nbformat": 4,
 "nbformat_minor": 5
}
